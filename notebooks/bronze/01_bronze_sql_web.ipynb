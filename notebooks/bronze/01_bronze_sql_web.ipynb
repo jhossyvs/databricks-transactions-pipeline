{
 "cells": [
  {
   "cell_type": "code",
   "execution_count": 0,
   "metadata": {
    "application/vnd.databricks.v1+cell": {
     "cellMetadata": {
      "byteLimit": 2048000,
      "rowLimit": 10000
     },
     "inputWidgets": {},
     "nuid": "9988ce8c-7731-4866-b574-c5447a6a17e8",
     "showTitle": false,
     "tableResultSettingsMap": {},
     "title": ""
    }
   },
   "outputs": [],
   "source": [
    "DB_PASSWORD = dbutils.secrets.get(scope = \"scope-dsrp\", key = \"db-password\")"
   ]
  },
  {
   "cell_type": "code",
   "execution_count": 0,
   "metadata": {
    "application/vnd.databricks.v1+cell": {
     "cellMetadata": {
      "byteLimit": 2048000,
      "rowLimit": 10000
     },
     "inputWidgets": {},
     "nuid": "12746da9-80f9-4eaf-b87e-674f8f538b45",
     "showTitle": false,
     "tableResultSettingsMap": {},
     "title": ""
    }
   },
   "outputs": [],
   "source": [
    "jdbc_url = \"jdbc:sqlserver://sqlserverdsrp.database.windows.net:1433;database=dsrp-class-bbdd\"\n",
    "connection_properties = {\n",
    "    \"user\": \"user-dsrp\",\n",
    "    \"password\": DB_PASSWORD,\n",
    "    \"driver\": \"com.microsoft.sqlserver.jdbc.SQLServerDriver\"\n",
    "}"
   ]
  },
  {
   "cell_type": "code",
   "execution_count": 0,
   "metadata": {
    "application/vnd.databricks.v1+cell": {
     "cellMetadata": {
      "byteLimit": 2048000,
      "rowLimit": 10000
     },
     "inputWidgets": {},
     "nuid": "10266195-793e-43ad-ac70-1235987ee3e2",
     "showTitle": false,
     "tableResultSettingsMap": {},
     "title": ""
    }
   },
   "outputs": [],
   "source": [
    "df = spark.read.jdbc(url = jdbc_url, table=\"transacciones\", properties=connection_properties)"
   ]
  },
  {
   "cell_type": "code",
   "execution_count": 0,
   "metadata": {
    "application/vnd.databricks.v1+cell": {
     "cellMetadata": {
      "byteLimit": 2048000,
      "rowLimit": 10000
     },
     "inputWidgets": {},
     "nuid": "df0dd9aa-c389-4940-9fae-84e784c660ac",
     "showTitle": false,
     "tableResultSettingsMap": {},
     "title": ""
    }
   },
   "outputs": [
    {
     "output_type": "display_data",
     "data": {
      "text/html": [
       "<style scoped>\n",
       "  .table-result-container {\n",
       "    max-height: 300px;\n",
       "    overflow: auto;\n",
       "  }\n",
       "  table, th, td {\n",
       "    border: 1px solid black;\n",
       "    border-collapse: collapse;\n",
       "  }\n",
       "  th, td {\n",
       "    padding: 5px;\n",
       "  }\n",
       "  th {\n",
       "    text-align: left;\n",
       "  }\n",
       "</style><div class='table-result-container'><table class='table-result'><thead style='background-color: white'><tr><th>id_trx</th><th>id_usuario</th><th>operacion</th><th>monto</th><th>fecha</th><th>hora</th></tr></thead><tbody><tr><td>501</td><td>3035</td><td>DEPOSITO</td><td>2985.45</td><td>2022-06-19</td><td>08:00:00.0</td></tr><tr><td>502</td><td>3028</td><td>VENTA</td><td>807.68</td><td>2023-11-02</td><td>08:00:00.0</td></tr><tr><td>503</td><td>3023</td><td>PAGO</td><td>1000.53</td><td>2020-08-01</td><td>08:00:00.0</td></tr><tr><td>504</td><td>3013</td><td>PAGO</td><td>2439.67</td><td>2024-08-12</td><td>08:00:00.0</td></tr><tr><td>505</td><td>3042</td><td>RETIRO</td><td>4651.65</td><td>2022-11-11</td><td>08:00:00.0</td></tr><tr><td>506</td><td>3011</td><td>COMPRA</td><td>3258.69</td><td>2025-04-26</td><td>08:00:00.0</td></tr><tr><td>507</td><td>3053</td><td>DEPOSITO</td><td>3460.41</td><td>2022-06-10</td><td>08:00:00.0</td></tr><tr><td>508</td><td>3074</td><td>PAGO</td><td>3402.76</td><td>2020-03-21</td><td>08:00:00.0</td></tr><tr><td>509</td><td>3069</td><td>COMPRA</td><td>1117.49</td><td>2024-05-15</td><td>08:00:00.0</td></tr><tr><td>510</td><td>3030</td><td>RETIRO</td><td>703.29</td><td>2023-12-03</td><td>08:00:00.0</td></tr><tr><td>511</td><td>3060</td><td>COMPRA</td><td>1710.26</td><td>2025-04-08</td><td>08:00:00.0</td></tr><tr><td>512</td><td>3069</td><td>RETIRO</td><td>111.68</td><td>2021-08-05</td><td>08:00:00.0</td></tr><tr><td>513</td><td>3031</td><td>PAGO</td><td>2041.37</td><td>2021-03-17</td><td>08:00:00.0</td></tr><tr><td>514</td><td>3095</td><td>PAGO</td><td>1611.54</td><td>2023-02-07</td><td>08:00:00.0</td></tr><tr><td>515</td><td>3066</td><td>VENTA</td><td>3431.48</td><td>2020-11-18</td><td>08:00:00.0</td></tr><tr><td>516</td><td>3041</td><td>PAGO</td><td>3970.55</td><td>2021-04-15</td><td>08:00:00.0</td></tr><tr><td>517</td><td>3069</td><td>COMPRA</td><td>2116.86</td><td>2025-02-06</td><td>08:00:00.0</td></tr><tr><td>518</td><td>3021</td><td>RETIRO</td><td>4965.24</td><td>2021-04-25</td><td>08:00:00.0</td></tr><tr><td>519</td><td>3034</td><td>RETIRO</td><td>4780.43</td><td>2021-09-03</td><td>08:00:00.0</td></tr><tr><td>520</td><td>3025</td><td>COMPRA</td><td>2431.01</td><td>2022-05-28</td><td>08:00:00.0</td></tr><tr><td>521</td><td>3069</td><td>RETIRO</td><td>664.37</td><td>2024-11-24</td><td>08:00:00.0</td></tr><tr><td>522</td><td>3026</td><td>DEPOSITO</td><td>4453.6</td><td>2020-07-10</td><td>08:00:00.0</td></tr><tr><td>523</td><td>3064</td><td>VENTA</td><td>3581.61</td><td>2023-01-29</td><td>08:00:00.0</td></tr><tr><td>524</td><td>3021</td><td>VENTA</td><td>3081.86</td><td>2022-09-30</td><td>08:00:00.0</td></tr><tr><td>525</td><td>3014</td><td>PAGO</td><td>407.53</td><td>2024-04-29</td><td>08:00:00.0</td></tr><tr><td>526</td><td>3009</td><td>COMPRA</td><td>3062.8</td><td>2020-07-14</td><td>08:00:00.0</td></tr><tr><td>527</td><td>3076</td><td>VENTA</td><td>4952.63</td><td>2024-07-20</td><td>08:00:00.0</td></tr><tr><td>528</td><td>3003</td><td>PAGO</td><td>4625.52</td><td>2024-12-22</td><td>08:00:00.0</td></tr><tr><td>529</td><td>3010</td><td>VENTA</td><td>82.91</td><td>2023-01-04</td><td>08:00:00.0</td></tr><tr><td>530</td><td>3060</td><td>DEPOSITO</td><td>3020.55</td><td>2020-08-09</td><td>08:00:00.0</td></tr><tr><td>531</td><td>3089</td><td>COMPRA</td><td>4398.59</td><td>2022-05-09</td><td>08:00:00.0</td></tr><tr><td>532</td><td>3026</td><td>RETIRO</td><td>3602.66</td><td>2024-06-06</td><td>08:00:00.0</td></tr><tr><td>533</td><td>3007</td><td>PAGO</td><td>3246.83</td><td>2020-05-11</td><td>08:00:00.0</td></tr><tr><td>534</td><td>3055</td><td>RETIRO</td><td>25.44</td><td>2022-04-07</td><td>08:00:00.0</td></tr><tr><td>535</td><td>3015</td><td>COMPRA</td><td>2145.05</td><td>2024-11-23</td><td>08:00:00.0</td></tr><tr><td>536</td><td>3031</td><td>VENTA</td><td>3608.54</td><td>2022-12-11</td><td>08:00:00.0</td></tr><tr><td>537</td><td>3099</td><td>PAGO</td><td>3050.16</td><td>2021-03-08</td><td>08:00:00.0</td></tr><tr><td>538</td><td>3093</td><td>COMPRA</td><td>2099.29</td><td>2023-10-06</td><td>08:00:00.0</td></tr><tr><td>539</td><td>3092</td><td>VENTA</td><td>4233.74</td><td>2023-07-17</td><td>08:00:00.0</td></tr><tr><td>540</td><td>3089</td><td>VENTA</td><td>1402.94</td><td>2020-06-19</td><td>08:00:00.0</td></tr><tr><td>541</td><td>3013</td><td>COMPRA</td><td>2800.84</td><td>2021-12-03</td><td>08:00:00.0</td></tr><tr><td>542</td><td>3090</td><td>COMPRA</td><td>3814.18</td><td>2025-03-13</td><td>08:00:00.0</td></tr><tr><td>543</td><td>3087</td><td>PAGO</td><td>364.14</td><td>2020-05-10</td><td>08:00:00.0</td></tr><tr><td>544</td><td>3026</td><td>RETIRO</td><td>1841.95</td><td>2022-09-09</td><td>08:00:00.0</td></tr><tr><td>545</td><td>3037</td><td>PAGO</td><td>1563.91</td><td>2021-10-01</td><td>08:00:00.0</td></tr><tr><td>546</td><td>3017</td><td>COMPRA</td><td>4777.83</td><td>2023-06-09</td><td>08:00:00.0</td></tr><tr><td>547</td><td>3035</td><td>DEPOSITO</td><td>4370.15</td><td>2020-10-09</td><td>08:00:00.0</td></tr><tr><td>548</td><td>3037</td><td>DEPOSITO</td><td>3916.16</td><td>2023-12-30</td><td>08:00:00.0</td></tr><tr><td>549</td><td>3084</td><td>VENTA</td><td>2913.53</td><td>2022-02-15</td><td>08:00:00.0</td></tr><tr><td>550</td><td>3014</td><td>RETIRO</td><td>2138.81</td><td>2022-08-31</td><td>08:00:00.0</td></tr><tr><td>551</td><td>3042</td><td>VENTA</td><td>3044.5</td><td>2021-04-24</td><td>08:00:00.0</td></tr><tr><td>552</td><td>3070</td><td>VENTA</td><td>1161.43</td><td>2020-06-09</td><td>08:00:00.0</td></tr><tr><td>553</td><td>3020</td><td>PAGO</td><td>2152.49</td><td>2021-06-28</td><td>08:00:00.0</td></tr><tr><td>554</td><td>3056</td><td>COMPRA</td><td>929.01</td><td>2022-01-27</td><td>08:00:00.0</td></tr><tr><td>555</td><td>3041</td><td>RETIRO</td><td>1816.92</td><td>2022-10-23</td><td>08:00:00.0</td></tr><tr><td>556</td><td>3060</td><td>PAGO</td><td>3924.69</td><td>2023-08-09</td><td>08:00:00.0</td></tr><tr><td>557</td><td>3089</td><td>VENTA</td><td>2457.45</td><td>2020-12-05</td><td>08:00:00.0</td></tr><tr><td>558</td><td>3013</td><td>DEPOSITO</td><td>4076.78</td><td>2020-07-09</td><td>08:00:00.0</td></tr><tr><td>559</td><td>3014</td><td>PAGO</td><td>2040.47</td><td>2023-04-12</td><td>08:00:00.0</td></tr><tr><td>560</td><td>3044</td><td>PAGO</td><td>4972.54</td><td>2025-01-02</td><td>08:00:00.0</td></tr><tr><td>561</td><td>3033</td><td>RETIRO</td><td>2063.8</td><td>2024-12-07</td><td>08:00:00.0</td></tr><tr><td>562</td><td>3000</td><td>COMPRA</td><td>1103.62</td><td>2021-04-04</td><td>08:00:00.0</td></tr><tr><td>563</td><td>3089</td><td>COMPRA</td><td>873.55</td><td>2024-09-07</td><td>08:00:00.0</td></tr><tr><td>564</td><td>3046</td><td>VENTA</td><td>4517.58</td><td>2022-09-03</td><td>08:00:00.0</td></tr><tr><td>565</td><td>3056</td><td>VENTA</td><td>1280.39</td><td>2021-08-02</td><td>08:00:00.0</td></tr><tr><td>566</td><td>3092</td><td>DEPOSITO</td><td>2830.01</td><td>2020-03-27</td><td>08:00:00.0</td></tr><tr><td>567</td><td>3090</td><td>VENTA</td><td>2560.08</td><td>2022-08-08</td><td>08:00:00.0</td></tr><tr><td>568</td><td>3096</td><td>VENTA</td><td>2053.45</td><td>2020-12-29</td><td>08:00:00.0</td></tr><tr><td>569</td><td>3012</td><td>RETIRO</td><td>2348.15</td><td>2021-10-22</td><td>08:00:00.0</td></tr><tr><td>570</td><td>3098</td><td>RETIRO</td><td>3993.91</td><td>2024-06-05</td><td>08:00:00.0</td></tr><tr><td>571</td><td>3052</td><td>RETIRO</td><td>4640.88</td><td>2021-02-11</td><td>08:00:00.0</td></tr><tr><td>572</td><td>3070</td><td>RETIRO</td><td>1964.46</td><td>2020-09-22</td><td>08:00:00.0</td></tr><tr><td>573</td><td>3082</td><td>DEPOSITO</td><td>1220.84</td><td>2023-09-27</td><td>08:00:00.0</td></tr><tr><td>574</td><td>3009</td><td>RETIRO</td><td>3478.51</td><td>2022-06-27</td><td>08:00:00.0</td></tr><tr><td>575</td><td>3075</td><td>PAGO</td><td>2608.29</td><td>2022-10-13</td><td>08:00:00.0</td></tr><tr><td>576</td><td>3004</td><td>DEPOSITO</td><td>4831.81</td><td>2025-04-11</td><td>08:00:00.0</td></tr><tr><td>577</td><td>3002</td><td>DEPOSITO</td><td>4225.06</td><td>2023-05-05</td><td>08:00:00.0</td></tr><tr><td>578</td><td>3044</td><td>DEPOSITO</td><td>1713.66</td><td>2025-03-05</td><td>08:00:00.0</td></tr><tr><td>579</td><td>3095</td><td>PAGO</td><td>3741.41</td><td>2024-02-10</td><td>08:00:00.0</td></tr><tr><td>580</td><td>3093</td><td>COMPRA</td><td>4929.23</td><td>2024-06-21</td><td>08:00:00.0</td></tr><tr><td>581</td><td>3078</td><td>DEPOSITO</td><td>4526.63</td><td>2025-02-14</td><td>08:00:00.0</td></tr><tr><td>582</td><td>3083</td><td>VENTA</td><td>4533.31</td><td>2024-07-12</td><td>08:00:00.0</td></tr><tr><td>583</td><td>3070</td><td>COMPRA</td><td>1677.91</td><td>2022-05-06</td><td>08:00:00.0</td></tr><tr><td>584</td><td>3022</td><td>COMPRA</td><td>3463.3</td><td>2023-10-09</td><td>08:00:00.0</td></tr><tr><td>585</td><td>3026</td><td>VENTA</td><td>4202.55</td><td>2025-03-21</td><td>08:00:00.0</td></tr><tr><td>586</td><td>3010</td><td>RETIRO</td><td>308.22</td><td>2020-10-19</td><td>08:00:00.0</td></tr><tr><td>587</td><td>3064</td><td>DEPOSITO</td><td>3441.82</td><td>2021-09-03</td><td>08:00:00.0</td></tr><tr><td>588</td><td>3069</td><td>COMPRA</td><td>3564.15</td><td>2022-10-16</td><td>08:00:00.0</td></tr><tr><td>589</td><td>3048</td><td>COMPRA</td><td>420.08</td><td>2023-08-30</td><td>08:00:00.0</td></tr><tr><td>590</td><td>3013</td><td>COMPRA</td><td>605.45</td><td>2023-06-01</td><td>08:00:00.0</td></tr><tr><td>591</td><td>3044</td><td>COMPRA</td><td>3217.85</td><td>2020-10-03</td><td>08:00:00.0</td></tr><tr><td>592</td><td>3022</td><td>COMPRA</td><td>2397.55</td><td>2023-04-09</td><td>08:00:00.0</td></tr><tr><td>593</td><td>3095</td><td>PAGO</td><td>1919.64</td><td>2020-06-12</td><td>08:00:00.0</td></tr><tr><td>594</td><td>3004</td><td>COMPRA</td><td>2272.87</td><td>2021-11-15</td><td>08:00:00.0</td></tr><tr><td>595</td><td>3077</td><td>RETIRO</td><td>1960.56</td><td>2022-06-25</td><td>08:00:00.0</td></tr><tr><td>596</td><td>3024</td><td>PAGO</td><td>1019.67</td><td>2023-11-02</td><td>08:00:00.0</td></tr><tr><td>597</td><td>3027</td><td>VENTA</td><td>1817.17</td><td>2021-08-06</td><td>08:00:00.0</td></tr><tr><td>598</td><td>3052</td><td>COMPRA</td><td>1473.74</td><td>2023-03-10</td><td>08:00:00.0</td></tr><tr><td>599</td><td>3022</td><td>COMPRA</td><td>1673.12</td><td>2020-02-22</td><td>08:00:00.0</td></tr><tr><td>600</td><td>3018</td><td>PAGO</td><td>4154.06</td><td>2023-02-20</td><td>08:00:00.0</td></tr></tbody></table></div>"
      ]
     },
     "metadata": {
      "application/vnd.databricks.v1+output": {
       "addedWidgets": {},
       "aggData": [],
       "aggError": "",
       "aggOverflow": false,
       "aggSchema": [],
       "aggSeriesLimitReached": false,
       "aggType": "",
       "arguments": {},
       "columnCustomDisplayInfos": {},
       "data": [
        [
         501,
         "3035",
         "DEPOSITO",
         2985.45,
         "2022-06-19",
         "08:00:00.0"
        ],
        [
         502,
         "3028",
         "VENTA",
         807.68,
         "2023-11-02",
         "08:00:00.0"
        ],
        [
         503,
         "3023",
         "PAGO",
         1000.53,
         "2020-08-01",
         "08:00:00.0"
        ],
        [
         504,
         "3013",
         "PAGO",
         2439.67,
         "2024-08-12",
         "08:00:00.0"
        ],
        [
         505,
         "3042",
         "RETIRO",
         4651.65,
         "2022-11-11",
         "08:00:00.0"
        ],
        [
         506,
         "3011",
         "COMPRA",
         3258.69,
         "2025-04-26",
         "08:00:00.0"
        ],
        [
         507,
         "3053",
         "DEPOSITO",
         3460.41,
         "2022-06-10",
         "08:00:00.0"
        ],
        [
         508,
         "3074",
         "PAGO",
         3402.76,
         "2020-03-21",
         "08:00:00.0"
        ],
        [
         509,
         "3069",
         "COMPRA",
         1117.49,
         "2024-05-15",
         "08:00:00.0"
        ],
        [
         510,
         "3030",
         "RETIRO",
         703.29,
         "2023-12-03",
         "08:00:00.0"
        ],
        [
         511,
         "3060",
         "COMPRA",
         1710.26,
         "2025-04-08",
         "08:00:00.0"
        ],
        [
         512,
         "3069",
         "RETIRO",
         111.68,
         "2021-08-05",
         "08:00:00.0"
        ],
        [
         513,
         "3031",
         "PAGO",
         2041.37,
         "2021-03-17",
         "08:00:00.0"
        ],
        [
         514,
         "3095",
         "PAGO",
         1611.54,
         "2023-02-07",
         "08:00:00.0"
        ],
        [
         515,
         "3066",
         "VENTA",
         3431.48,
         "2020-11-18",
         "08:00:00.0"
        ],
        [
         516,
         "3041",
         "PAGO",
         3970.55,
         "2021-04-15",
         "08:00:00.0"
        ],
        [
         517,
         "3069",
         "COMPRA",
         2116.86,
         "2025-02-06",
         "08:00:00.0"
        ],
        [
         518,
         "3021",
         "RETIRO",
         4965.24,
         "2021-04-25",
         "08:00:00.0"
        ],
        [
         519,
         "3034",
         "RETIRO",
         4780.43,
         "2021-09-03",
         "08:00:00.0"
        ],
        [
         520,
         "3025",
         "COMPRA",
         2431.01,
         "2022-05-28",
         "08:00:00.0"
        ],
        [
         521,
         "3069",
         "RETIRO",
         664.37,
         "2024-11-24",
         "08:00:00.0"
        ],
        [
         522,
         "3026",
         "DEPOSITO",
         4453.6,
         "2020-07-10",
         "08:00:00.0"
        ],
        [
         523,
         "3064",
         "VENTA",
         3581.61,
         "2023-01-29",
         "08:00:00.0"
        ],
        [
         524,
         "3021",
         "VENTA",
         3081.86,
         "2022-09-30",
         "08:00:00.0"
        ],
        [
         525,
         "3014",
         "PAGO",
         407.53,
         "2024-04-29",
         "08:00:00.0"
        ],
        [
         526,
         "3009",
         "COMPRA",
         3062.8,
         "2020-07-14",
         "08:00:00.0"
        ],
        [
         527,
         "3076",
         "VENTA",
         4952.63,
         "2024-07-20",
         "08:00:00.0"
        ],
        [
         528,
         "3003",
         "PAGO",
         4625.52,
         "2024-12-22",
         "08:00:00.0"
        ],
        [
         529,
         "3010",
         "VENTA",
         82.91,
         "2023-01-04",
         "08:00:00.0"
        ],
        [
         530,
         "3060",
         "DEPOSITO",
         3020.55,
         "2020-08-09",
         "08:00:00.0"
        ],
        [
         531,
         "3089",
         "COMPRA",
         4398.59,
         "2022-05-09",
         "08:00:00.0"
        ],
        [
         532,
         "3026",
         "RETIRO",
         3602.66,
         "2024-06-06",
         "08:00:00.0"
        ],
        [
         533,
         "3007",
         "PAGO",
         3246.83,
         "2020-05-11",
         "08:00:00.0"
        ],
        [
         534,
         "3055",
         "RETIRO",
         25.44,
         "2022-04-07",
         "08:00:00.0"
        ],
        [
         535,
         "3015",
         "COMPRA",
         2145.05,
         "2024-11-23",
         "08:00:00.0"
        ],
        [
         536,
         "3031",
         "VENTA",
         3608.54,
         "2022-12-11",
         "08:00:00.0"
        ],
        [
         537,
         "3099",
         "PAGO",
         3050.16,
         "2021-03-08",
         "08:00:00.0"
        ],
        [
         538,
         "3093",
         "COMPRA",
         2099.29,
         "2023-10-06",
         "08:00:00.0"
        ],
        [
         539,
         "3092",
         "VENTA",
         4233.74,
         "2023-07-17",
         "08:00:00.0"
        ],
        [
         540,
         "3089",
         "VENTA",
         1402.94,
         "2020-06-19",
         "08:00:00.0"
        ],
        [
         541,
         "3013",
         "COMPRA",
         2800.84,
         "2021-12-03",
         "08:00:00.0"
        ],
        [
         542,
         "3090",
         "COMPRA",
         3814.18,
         "2025-03-13",
         "08:00:00.0"
        ],
        [
         543,
         "3087",
         "PAGO",
         364.14,
         "2020-05-10",
         "08:00:00.0"
        ],
        [
         544,
         "3026",
         "RETIRO",
         1841.95,
         "2022-09-09",
         "08:00:00.0"
        ],
        [
         545,
         "3037",
         "PAGO",
         1563.91,
         "2021-10-01",
         "08:00:00.0"
        ],
        [
         546,
         "3017",
         "COMPRA",
         4777.83,
         "2023-06-09",
         "08:00:00.0"
        ],
        [
         547,
         "3035",
         "DEPOSITO",
         4370.15,
         "2020-10-09",
         "08:00:00.0"
        ],
        [
         548,
         "3037",
         "DEPOSITO",
         3916.16,
         "2023-12-30",
         "08:00:00.0"
        ],
        [
         549,
         "3084",
         "VENTA",
         2913.53,
         "2022-02-15",
         "08:00:00.0"
        ],
        [
         550,
         "3014",
         "RETIRO",
         2138.81,
         "2022-08-31",
         "08:00:00.0"
        ],
        [
         551,
         "3042",
         "VENTA",
         3044.5,
         "2021-04-24",
         "08:00:00.0"
        ],
        [
         552,
         "3070",
         "VENTA",
         1161.43,
         "2020-06-09",
         "08:00:00.0"
        ],
        [
         553,
         "3020",
         "PAGO",
         2152.49,
         "2021-06-28",
         "08:00:00.0"
        ],
        [
         554,
         "3056",
         "COMPRA",
         929.01,
         "2022-01-27",
         "08:00:00.0"
        ],
        [
         555,
         "3041",
         "RETIRO",
         1816.92,
         "2022-10-23",
         "08:00:00.0"
        ],
        [
         556,
         "3060",
         "PAGO",
         3924.69,
         "2023-08-09",
         "08:00:00.0"
        ],
        [
         557,
         "3089",
         "VENTA",
         2457.45,
         "2020-12-05",
         "08:00:00.0"
        ],
        [
         558,
         "3013",
         "DEPOSITO",
         4076.78,
         "2020-07-09",
         "08:00:00.0"
        ],
        [
         559,
         "3014",
         "PAGO",
         2040.47,
         "2023-04-12",
         "08:00:00.0"
        ],
        [
         560,
         "3044",
         "PAGO",
         4972.54,
         "2025-01-02",
         "08:00:00.0"
        ],
        [
         561,
         "3033",
         "RETIRO",
         2063.8,
         "2024-12-07",
         "08:00:00.0"
        ],
        [
         562,
         "3000",
         "COMPRA",
         1103.62,
         "2021-04-04",
         "08:00:00.0"
        ],
        [
         563,
         "3089",
         "COMPRA",
         873.55,
         "2024-09-07",
         "08:00:00.0"
        ],
        [
         564,
         "3046",
         "VENTA",
         4517.58,
         "2022-09-03",
         "08:00:00.0"
        ],
        [
         565,
         "3056",
         "VENTA",
         1280.39,
         "2021-08-02",
         "08:00:00.0"
        ],
        [
         566,
         "3092",
         "DEPOSITO",
         2830.01,
         "2020-03-27",
         "08:00:00.0"
        ],
        [
         567,
         "3090",
         "VENTA",
         2560.08,
         "2022-08-08",
         "08:00:00.0"
        ],
        [
         568,
         "3096",
         "VENTA",
         2053.45,
         "2020-12-29",
         "08:00:00.0"
        ],
        [
         569,
         "3012",
         "RETIRO",
         2348.15,
         "2021-10-22",
         "08:00:00.0"
        ],
        [
         570,
         "3098",
         "RETIRO",
         3993.91,
         "2024-06-05",
         "08:00:00.0"
        ],
        [
         571,
         "3052",
         "RETIRO",
         4640.88,
         "2021-02-11",
         "08:00:00.0"
        ],
        [
         572,
         "3070",
         "RETIRO",
         1964.46,
         "2020-09-22",
         "08:00:00.0"
        ],
        [
         573,
         "3082",
         "DEPOSITO",
         1220.84,
         "2023-09-27",
         "08:00:00.0"
        ],
        [
         574,
         "3009",
         "RETIRO",
         3478.51,
         "2022-06-27",
         "08:00:00.0"
        ],
        [
         575,
         "3075",
         "PAGO",
         2608.29,
         "2022-10-13",
         "08:00:00.0"
        ],
        [
         576,
         "3004",
         "DEPOSITO",
         4831.81,
         "2025-04-11",
         "08:00:00.0"
        ],
        [
         577,
         "3002",
         "DEPOSITO",
         4225.06,
         "2023-05-05",
         "08:00:00.0"
        ],
        [
         578,
         "3044",
         "DEPOSITO",
         1713.66,
         "2025-03-05",
         "08:00:00.0"
        ],
        [
         579,
         "3095",
         "PAGO",
         3741.41,
         "2024-02-10",
         "08:00:00.0"
        ],
        [
         580,
         "3093",
         "COMPRA",
         4929.23,
         "2024-06-21",
         "08:00:00.0"
        ],
        [
         581,
         "3078",
         "DEPOSITO",
         4526.63,
         "2025-02-14",
         "08:00:00.0"
        ],
        [
         582,
         "3083",
         "VENTA",
         4533.31,
         "2024-07-12",
         "08:00:00.0"
        ],
        [
         583,
         "3070",
         "COMPRA",
         1677.91,
         "2022-05-06",
         "08:00:00.0"
        ],
        [
         584,
         "3022",
         "COMPRA",
         3463.3,
         "2023-10-09",
         "08:00:00.0"
        ],
        [
         585,
         "3026",
         "VENTA",
         4202.55,
         "2025-03-21",
         "08:00:00.0"
        ],
        [
         586,
         "3010",
         "RETIRO",
         308.22,
         "2020-10-19",
         "08:00:00.0"
        ],
        [
         587,
         "3064",
         "DEPOSITO",
         3441.82,
         "2021-09-03",
         "08:00:00.0"
        ],
        [
         588,
         "3069",
         "COMPRA",
         3564.15,
         "2022-10-16",
         "08:00:00.0"
        ],
        [
         589,
         "3048",
         "COMPRA",
         420.08,
         "2023-08-30",
         "08:00:00.0"
        ],
        [
         590,
         "3013",
         "COMPRA",
         605.45,
         "2023-06-01",
         "08:00:00.0"
        ],
        [
         591,
         "3044",
         "COMPRA",
         3217.85,
         "2020-10-03",
         "08:00:00.0"
        ],
        [
         592,
         "3022",
         "COMPRA",
         2397.55,
         "2023-04-09",
         "08:00:00.0"
        ],
        [
         593,
         "3095",
         "PAGO",
         1919.64,
         "2020-06-12",
         "08:00:00.0"
        ],
        [
         594,
         "3004",
         "COMPRA",
         2272.87,
         "2021-11-15",
         "08:00:00.0"
        ],
        [
         595,
         "3077",
         "RETIRO",
         1960.56,
         "2022-06-25",
         "08:00:00.0"
        ],
        [
         596,
         "3024",
         "PAGO",
         1019.67,
         "2023-11-02",
         "08:00:00.0"
        ],
        [
         597,
         "3027",
         "VENTA",
         1817.17,
         "2021-08-06",
         "08:00:00.0"
        ],
        [
         598,
         "3052",
         "COMPRA",
         1473.74,
         "2023-03-10",
         "08:00:00.0"
        ],
        [
         599,
         "3022",
         "COMPRA",
         1673.12,
         "2020-02-22",
         "08:00:00.0"
        ],
        [
         600,
         "3018",
         "PAGO",
         4154.06,
         "2023-02-20",
         "08:00:00.0"
        ]
       ],
       "datasetInfos": [],
       "dbfsResultPath": null,
       "isJsonSchema": true,
       "metadata": {},
       "overflow": false,
       "plotOptions": {
        "customPlotOptions": {},
        "displayType": "table",
        "pivotAggregation": null,
        "pivotColumns": null,
        "xColumns": null,
        "yColumns": null
       },
       "removedWidgets": [],
       "schema": [
        {
         "metadata": "{\"scale\":0}",
         "name": "id_trx",
         "type": "\"integer\""
        },
        {
         "metadata": "{\"scale\":0}",
         "name": "id_usuario",
         "type": "\"string\""
        },
        {
         "metadata": "{\"scale\":0}",
         "name": "operacion",
         "type": "\"string\""
        },
        {
         "metadata": "{\"scale\":0}",
         "name": "monto",
         "type": "\"double\""
        },
        {
         "metadata": "{\"scale\":0}",
         "name": "fecha",
         "type": "\"string\""
        },
        {
         "metadata": "{\"scale\":0}",
         "name": "hora",
         "type": "\"string\""
        }
       ],
       "type": "table"
      }
     },
     "output_type": "display_data"
    }
   ],
   "source": [
    "display(df)"
   ]
  },
  {
   "cell_type": "code",
   "execution_count": 0,
   "metadata": {
    "application/vnd.databricks.v1+cell": {
     "cellMetadata": {
      "byteLimit": 2048000,
      "rowLimit": 10000
     },
     "inputWidgets": {},
     "nuid": "1a77140a-bcec-4055-81da-006538c5e454",
     "showTitle": false,
     "tableResultSettingsMap": {},
     "title": ""
    }
   },
   "outputs": [],
   "source": [
    "df.write.format(\"delta\").mode(\"overwrite\").saveAsTable(\"class_dsrp_dtb.default.bronze_web\")"
   ]
  }
 ],
 "metadata": {
  "application/vnd.databricks.v1+notebook": {
   "computePreferences": null,
   "dashboards": [],
   "environmentMetadata": {
    "base_environment": "",
    "environment_version": "3"
   },
   "inputWidgetPreferences": null,
   "language": "python",
   "notebookMetadata": {
    "mostRecentlyExecutedCommandWithImplicitDF": {
     "commandId": 5543720372017163,
     "dataframes": [
      "_sqldf"
     ]
    },
    "pythonIndentUnit": 4
   },
   "notebookName": "bronze_sql_web",
   "widgets": {}
  },
  "language_info": {
   "name": "python"
  }
 },
 "nbformat": 4,
 "nbformat_minor": 0
}