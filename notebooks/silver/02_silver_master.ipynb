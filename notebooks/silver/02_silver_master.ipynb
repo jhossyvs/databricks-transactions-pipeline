{
 "cells": [
  {
   "cell_type": "code",
   "execution_count": 0,
   "metadata": {
    "application/vnd.databricks.v1+cell": {
     "cellMetadata": {
      "byteLimit": 2048000,
      "rowLimit": 10000
     },
     "inputWidgets": {},
     "nuid": "c547b67f-cce7-47fe-9b7e-4098c47c945e",
     "showTitle": false,
     "tableResultSettingsMap": {},
     "title": ""
    }
   },
   "outputs": [],
   "source": [
    "from pyspark.sql.functions import col, from_json, expr, row_number, lit\n",
    "from pyspark.sql.window import Window"
   ]
  },
  {
   "cell_type": "code",
   "execution_count": 0,
   "metadata": {
    "application/vnd.databricks.v1+cell": {
     "cellMetadata": {
      "byteLimit": 2048000,
      "rowLimit": 10000
     },
     "inputWidgets": {},
     "nuid": "3c5e3f81-6cc5-45b4-b451-02ee40ac27e1",
     "showTitle": false,
     "tableResultSettingsMap": {},
     "title": ""
    }
   },
   "outputs": [],
   "source": [
    "BRONZE_WEB_PATH = \"class_dsrp_dtb.default.bronze_web\"\n",
    "BRONZE_APP_PATH = \"class_dsrp_dtb.default.bronze_app\"\n",
    "SILVER_TRANSACCIONES_TABLE = \"silver_transacciones\""
   ]
  },
  {
   "cell_type": "code",
   "execution_count": 0,
   "metadata": {
    "application/vnd.databricks.v1+cell": {
     "cellMetadata": {
      "byteLimit": 2048000,
      "rowLimit": 10000
     },
     "inputWidgets": {},
     "nuid": "a41b23d6-b16d-4f32-8d8c-26ca4c4ebc27",
     "showTitle": false,
     "tableResultSettingsMap": {},
     "title": ""
    }
   },
   "outputs": [],
   "source": [
    "spark.conf.set(\n",
    "    \"spark.sql.legacy.timeParserPolicy\",\n",
    "    \"LEGACY\"\n",
    ")"
   ]
  },
  {
   "cell_type": "markdown",
   "metadata": {
    "application/vnd.databricks.v1+cell": {
     "cellMetadata": {
      "byteLimit": 2048000,
      "rowLimit": 10000
     },
     "inputWidgets": {},
     "nuid": "6ace6a3e-ea5b-428f-8de2-06ea876bfa4a",
     "showTitle": false,
     "tableResultSettingsMap": {},
     "title": ""
    }
   },
   "source": [
    "Lectura de datos desde Azure SQL"
   ]
  },
  {
   "cell_type": "code",
   "execution_count": 0,
   "metadata": {
    "application/vnd.databricks.v1+cell": {
     "cellMetadata": {
      "byteLimit": 2048000,
      "rowLimit": 10000
     },
     "inputWidgets": {},
     "nuid": "41dcfc57-2b7c-4e4f-8ef0-a9f94f2ddbc8",
     "showTitle": false,
     "tableResultSettingsMap": {},
     "title": ""
    }
   },
   "outputs": [],
   "source": [
    "df_bronze_web = spark.table(BRONZE_WEB_PATH)"
   ]
  },
  {
   "cell_type": "markdown",
   "metadata": {
    "application/vnd.databricks.v1+cell": {
     "cellMetadata": {
      "byteLimit": 2048000,
      "rowLimit": 10000
     },
     "inputWidgets": {},
     "nuid": "c4891841-5277-41d8-9d94-17625f89fede",
     "showTitle": false,
     "tableResultSettingsMap": {},
     "title": ""
    }
   },
   "source": [
    "Lectura de datos en streaming desde CosmosDB"
   ]
  },
  {
   "cell_type": "code",
   "execution_count": 0,
   "metadata": {
    "application/vnd.databricks.v1+cell": {
     "cellMetadata": {
      "byteLimit": 2048000,
      "rowLimit": 10000
     },
     "inputWidgets": {},
     "nuid": "38e3afb4-431d-465b-a515-e5d80d1ee347",
     "showTitle": false,
     "tableResultSettingsMap": {},
     "title": ""
    }
   },
   "outputs": [],
   "source": [
    "df_bronze_app_cosmos  = spark.table(BRONZE_APP_PATH)"
   ]
  },
  {
   "cell_type": "code",
   "execution_count": 0,
   "metadata": {
    "application/vnd.databricks.v1+cell": {
     "cellMetadata": {
      "byteLimit": 2048000,
      "rowLimit": 10000
     },
     "inputWidgets": {},
     "nuid": "53ae8f61-feec-46f6-a19d-95e64b78bec2",
     "showTitle": false,
     "tableResultSettingsMap": {},
     "title": ""
    }
   },
   "outputs": [],
   "source": [
    "from pyspark.sql.types import StructType, StructField, StringType, IntegerType, DoubleType, ArrayType, LongType, DateType, TimestampType"
   ]
  },
  {
   "cell_type": "code",
   "execution_count": 0,
   "metadata": {
    "application/vnd.databricks.v1+cell": {
     "cellMetadata": {
      "byteLimit": 2048000,
      "rowLimit": 10000
     },
     "inputWidgets": {},
     "nuid": "b580525d-5b40-4b76-a2eb-72ed8984a2b2",
     "showTitle": false,
     "tableResultSettingsMap": {},
     "title": ""
    }
   },
   "outputs": [],
   "source": [
    "bronze_app_schema = StructType([\n",
    "    StructField(\"id_trx\", IntegerType(), True),\n",
    "    StructField(\"id_usuario\", StringType(), True),\n",
    "    StructField(\"operacion\", StringType(), True),\n",
    "    StructField(\"monto\", DoubleType(), True),\n",
    "    StructField(\"fecha\", StringType(), True),\n",
    "    StructField(\"hora\", StringType(), True),\n",
    "])"
   ]
  },
  {
   "cell_type": "code",
   "execution_count": 0,
   "metadata": {
    "application/vnd.databricks.v1+cell": {
     "cellMetadata": {
      "byteLimit": 2048000,
      "rowLimit": 10000
     },
     "inputWidgets": {},
     "nuid": "3a528fd7-b197-42e9-ba31-ba134df7ba25",
     "showTitle": false,
     "tableResultSettingsMap": {},
     "title": ""
    }
   },
   "outputs": [],
   "source": [
    "df_bronze_app = df_bronze_app_cosmos.select(from_json(col(\"document\").cast(\"string\"), bronze_app_schema).alias(\"c\"), \"*\").select(\"c.*\")"
   ]
  },
  {
   "cell_type": "markdown",
   "metadata": {
    "application/vnd.databricks.v1+cell": {
     "cellMetadata": {
      "byteLimit": 2048000,
      "rowLimit": 10000
     },
     "inputWidgets": {},
     "nuid": "763aa473-2175-478e-83c1-01e5bb2f2e2c",
     "showTitle": false,
     "tableResultSettingsMap": {},
     "title": ""
    }
   },
   "source": [
    "Consolidado de transacciones"
   ]
  },
  {
   "cell_type": "code",
   "execution_count": 0,
   "metadata": {
    "application/vnd.databricks.v1+cell": {
     "cellMetadata": {
      "byteLimit": 2048000,
      "implicitDf": true,
      "rowLimit": 10000
     },
     "inputWidgets": {},
     "nuid": "8e2e9287-5f5b-45cf-9c3c-9761892876f7",
     "showTitle": false,
     "tableResultSettingsMap": {},
     "title": ""
    }
   },
   "outputs": [
    {
     "output_type": "display_data",
     "data": {
      "text/html": [
       "<style scoped>\n",
       "  .table-result-container {\n",
       "    max-height: 300px;\n",
       "    overflow: auto;\n",
       "  }\n",
       "  table, th, td {\n",
       "    border: 1px solid black;\n",
       "    border-collapse: collapse;\n",
       "  }\n",
       "  th, td {\n",
       "    padding: 5px;\n",
       "  }\n",
       "  th {\n",
       "    text-align: left;\n",
       "  }\n",
       "</style><div class='table-result-container'><table class='table-result'><thead style='background-color: white'><tr></tr></thead><tbody></tbody></table></div>"
      ]
     },
     "metadata": {
      "application/vnd.databricks.v1+output": {
       "addedWidgets": {},
       "aggData": [],
       "aggError": "",
       "aggOverflow": false,
       "aggSchema": [],
       "aggSeriesLimitReached": false,
       "aggType": "",
       "arguments": {},
       "columnCustomDisplayInfos": {},
       "data": [],
       "datasetInfos": [],
       "dbfsResultPath": null,
       "isJsonSchema": true,
       "metadata": {},
       "overflow": false,
       "plotOptions": {
        "customPlotOptions": {},
        "displayType": "table",
        "pivotAggregation": null,
        "pivotColumns": null,
        "xColumns": null,
        "yColumns": null
       },
       "removedWidgets": [],
       "schema": [],
       "type": "table"
      }
     },
     "output_type": "display_data"
    }
   ],
   "source": [
    "%sql\n",
    "DROP TABLE IF EXISTS class_dsrp_dtb.default.silver_transacciones;\n",
    "\n",
    "CREATE TABLE IF NOT EXISTS class_dsrp_dtb.default.silver_transacciones (\n",
    "  canal STRING,\n",
    "  id_trx INT,\n",
    "  id_usuario STRING,\n",
    "  operacion STRING,\n",
    "  monto DOUBLE,\n",
    "  fecha DATE,\n",
    "  hora STRING,\n",
    "  fecha_hora TIMESTAMP\n",
    ")\n",
    "USING DELTA;"
   ]
  },
  {
   "cell_type": "code",
   "execution_count": 0,
   "metadata": {
    "application/vnd.databricks.v1+cell": {
     "cellMetadata": {
      "byteLimit": 2048000,
      "rowLimit": 10000
     },
     "inputWidgets": {},
     "nuid": "f3a38738-bb1b-44a7-9d04-e198d4c7e62a",
     "showTitle": false,
     "tableResultSettingsMap": {},
     "title": ""
    }
   },
   "outputs": [],
   "source": [
    "from pyspark.sql.functions import lit, to_date, cast, concat_ws, to_timestamp, concat_ws"
   ]
  },
  {
   "cell_type": "code",
   "execution_count": 0,
   "metadata": {
    "application/vnd.databricks.v1+cell": {
     "cellMetadata": {
      "byteLimit": 2048000,
      "rowLimit": 10000
     },
     "inputWidgets": {},
     "nuid": "856762e8-dd4d-49e3-b0bd-da965fa1acbc",
     "showTitle": false,
     "tableResultSettingsMap": {},
     "title": ""
    }
   },
   "outputs": [],
   "source": [
    "df_bronze_web = df_bronze_web \\\n",
    "    .withColumn(\"canal\", lit(\"web\")) \\\n",
    "    .withColumn(\"fecha\", to_date(col(\"fecha\"), \"yyyy-MM-dd\")) \\\n",
    "    .withColumn(\"hora\", col(\"hora\").cast(\"string\")) \\\n",
    "    .withColumn(\"fecha_hora\", to_timestamp(concat_ws(\" \", col(\"fecha\"), col(\"hora\")), \"yyyy-MM-dd HH:mm:ss\"))\n",
    "\n",
    "df_bronze_web.write \\\n",
    "    .mode(\"append\") \\\n",
    "    .saveAsTable(\"silver_transacciones\")"
   ]
  },
  {
   "cell_type": "code",
   "execution_count": 0,
   "metadata": {
    "application/vnd.databricks.v1+cell": {
     "cellMetadata": {
      "byteLimit": 2048000,
      "rowLimit": 10000
     },
     "inputWidgets": {},
     "nuid": "77ee2e2c-333f-4fc9-a523-0bb47d740811",
     "showTitle": false,
     "tableResultSettingsMap": {},
     "title": ""
    }
   },
   "outputs": [],
   "source": [
    "df_bronze_app = df_bronze_app \\\n",
    "    .withColumn(\"canal\", lit(\"app\")) \\\n",
    "    .withColumn(\"fecha\", to_date(col(\"fecha\"), \"yyyy-MM-dd\")) \\\n",
    "    .withColumn(\"hora\", col(\"hora\").cast(\"string\")) \\\n",
    "    .withColumn(\"fecha_hora\", to_timestamp(concat_ws(\" \", col(\"fecha\"), col(\"hora\")), \"yyyy-MM-dd HH:mm:ss\"))\n",
    "\n",
    "df_bronze_app.write \\\n",
    "    .mode(\"append\") \\\n",
    "    .saveAsTable(\"silver_transacciones\")"
   ]
  },
  {
   "cell_type": "markdown",
   "metadata": {
    "application/vnd.databricks.v1+cell": {
     "cellMetadata": {
      "byteLimit": 2048000,
      "rowLimit": 10000
     },
     "inputWidgets": {},
     "nuid": "9666a0db-9ab8-4207-874b-e16d90ff885b",
     "showTitle": false,
     "tableResultSettingsMap": {},
     "title": ""
    }
   },
   "source": [
    "Eliminar duplicados"
   ]
  },
  {
   "cell_type": "code",
   "execution_count": 0,
   "metadata": {
    "application/vnd.databricks.v1+cell": {
     "cellMetadata": {
      "byteLimit": 2048000,
      "rowLimit": 10000
     },
     "inputWidgets": {},
     "nuid": "25069cd2-54b9-47e4-97b7-c7f0932ebf11",
     "showTitle": false,
     "tableResultSettingsMap": {},
     "title": ""
    }
   },
   "outputs": [
    {
     "output_type": "display_data",
     "data": {
      "text/html": [
       "<style scoped>\n",
       "  .table-result-container {\n",
       "    max-height: 300px;\n",
       "    overflow: auto;\n",
       "  }\n",
       "  table, th, td {\n",
       "    border: 1px solid black;\n",
       "    border-collapse: collapse;\n",
       "  }\n",
       "  th, td {\n",
       "    padding: 5px;\n",
       "  }\n",
       "  th {\n",
       "    text-align: left;\n",
       "  }\n",
       "</style><div class='table-result-container'><table class='table-result'><thead style='background-color: white'><tr><th>canal</th><th>id_trx</th><th>id_usuario</th><th>operacion</th><th>monto</th><th>fecha</th><th>hora</th><th>fecha_hora</th></tr></thead><tbody><tr><td>web</td><td>501</td><td>3035</td><td>DEPOSITO</td><td>2985.45</td><td>2022-06-19</td><td>08:00:00.0</td><td>2022-06-19T08:00:00.000+0000</td></tr><tr><td>web</td><td>502</td><td>3028</td><td>VENTA</td><td>807.68</td><td>2023-11-02</td><td>08:00:00.0</td><td>2023-11-02T08:00:00.000+0000</td></tr><tr><td>web</td><td>503</td><td>3023</td><td>PAGO</td><td>1000.53</td><td>2020-08-01</td><td>08:00:00.0</td><td>2020-08-01T08:00:00.000+0000</td></tr><tr><td>web</td><td>504</td><td>3013</td><td>PAGO</td><td>2439.67</td><td>2024-08-12</td><td>08:00:00.0</td><td>2024-08-12T08:00:00.000+0000</td></tr><tr><td>web</td><td>505</td><td>3042</td><td>RETIRO</td><td>4651.65</td><td>2022-11-11</td><td>08:00:00.0</td><td>2022-11-11T08:00:00.000+0000</td></tr><tr><td>web</td><td>506</td><td>3011</td><td>COMPRA</td><td>3258.69</td><td>2025-04-26</td><td>08:00:00.0</td><td>2025-04-26T08:00:00.000+0000</td></tr><tr><td>web</td><td>507</td><td>3053</td><td>DEPOSITO</td><td>3460.41</td><td>2022-06-10</td><td>08:00:00.0</td><td>2022-06-10T08:00:00.000+0000</td></tr><tr><td>web</td><td>508</td><td>3074</td><td>PAGO</td><td>3402.76</td><td>2020-03-21</td><td>08:00:00.0</td><td>2020-03-21T08:00:00.000+0000</td></tr><tr><td>web</td><td>509</td><td>3069</td><td>COMPRA</td><td>1117.49</td><td>2024-05-15</td><td>08:00:00.0</td><td>2024-05-15T08:00:00.000+0000</td></tr><tr><td>web</td><td>510</td><td>3030</td><td>RETIRO</td><td>703.29</td><td>2023-12-03</td><td>08:00:00.0</td><td>2023-12-03T08:00:00.000+0000</td></tr><tr><td>web</td><td>511</td><td>3060</td><td>COMPRA</td><td>1710.26</td><td>2025-04-08</td><td>08:00:00.0</td><td>2025-04-08T08:00:00.000+0000</td></tr><tr><td>web</td><td>512</td><td>3069</td><td>RETIRO</td><td>111.68</td><td>2021-08-05</td><td>08:00:00.0</td><td>2021-08-05T08:00:00.000+0000</td></tr><tr><td>web</td><td>513</td><td>3031</td><td>PAGO</td><td>2041.37</td><td>2021-03-17</td><td>08:00:00.0</td><td>2021-03-17T08:00:00.000+0000</td></tr><tr><td>web</td><td>514</td><td>3095</td><td>PAGO</td><td>1611.54</td><td>2023-02-07</td><td>08:00:00.0</td><td>2023-02-07T08:00:00.000+0000</td></tr><tr><td>web</td><td>515</td><td>3066</td><td>VENTA</td><td>3431.48</td><td>2020-11-18</td><td>08:00:00.0</td><td>2020-11-18T08:00:00.000+0000</td></tr><tr><td>web</td><td>516</td><td>3041</td><td>PAGO</td><td>3970.55</td><td>2021-04-15</td><td>08:00:00.0</td><td>2021-04-15T08:00:00.000+0000</td></tr><tr><td>web</td><td>517</td><td>3069</td><td>COMPRA</td><td>2116.86</td><td>2025-02-06</td><td>08:00:00.0</td><td>2025-02-06T08:00:00.000+0000</td></tr><tr><td>web</td><td>518</td><td>3021</td><td>RETIRO</td><td>4965.24</td><td>2021-04-25</td><td>08:00:00.0</td><td>2021-04-25T08:00:00.000+0000</td></tr><tr><td>web</td><td>519</td><td>3034</td><td>RETIRO</td><td>4780.43</td><td>2021-09-03</td><td>08:00:00.0</td><td>2021-09-03T08:00:00.000+0000</td></tr><tr><td>web</td><td>520</td><td>3025</td><td>COMPRA</td><td>2431.01</td><td>2022-05-28</td><td>08:00:00.0</td><td>2022-05-28T08:00:00.000+0000</td></tr><tr><td>web</td><td>521</td><td>3069</td><td>RETIRO</td><td>664.37</td><td>2024-11-24</td><td>08:00:00.0</td><td>2024-11-24T08:00:00.000+0000</td></tr><tr><td>web</td><td>522</td><td>3026</td><td>DEPOSITO</td><td>4453.6</td><td>2020-07-10</td><td>08:00:00.0</td><td>2020-07-10T08:00:00.000+0000</td></tr><tr><td>web</td><td>523</td><td>3064</td><td>VENTA</td><td>3581.61</td><td>2023-01-29</td><td>08:00:00.0</td><td>2023-01-29T08:00:00.000+0000</td></tr><tr><td>web</td><td>524</td><td>3021</td><td>VENTA</td><td>3081.86</td><td>2022-09-30</td><td>08:00:00.0</td><td>2022-09-30T08:00:00.000+0000</td></tr><tr><td>web</td><td>525</td><td>3014</td><td>PAGO</td><td>407.53</td><td>2024-04-29</td><td>08:00:00.0</td><td>2024-04-29T08:00:00.000+0000</td></tr><tr><td>web</td><td>526</td><td>3009</td><td>COMPRA</td><td>3062.8</td><td>2020-07-14</td><td>08:00:00.0</td><td>2020-07-14T08:00:00.000+0000</td></tr><tr><td>web</td><td>527</td><td>3076</td><td>VENTA</td><td>4952.63</td><td>2024-07-20</td><td>08:00:00.0</td><td>2024-07-20T08:00:00.000+0000</td></tr><tr><td>web</td><td>528</td><td>3003</td><td>PAGO</td><td>4625.52</td><td>2024-12-22</td><td>08:00:00.0</td><td>2024-12-22T08:00:00.000+0000</td></tr><tr><td>web</td><td>529</td><td>3010</td><td>VENTA</td><td>82.91</td><td>2023-01-04</td><td>08:00:00.0</td><td>2023-01-04T08:00:00.000+0000</td></tr><tr><td>web</td><td>530</td><td>3060</td><td>DEPOSITO</td><td>3020.55</td><td>2020-08-09</td><td>08:00:00.0</td><td>2020-08-09T08:00:00.000+0000</td></tr><tr><td>web</td><td>531</td><td>3089</td><td>COMPRA</td><td>4398.59</td><td>2022-05-09</td><td>08:00:00.0</td><td>2022-05-09T08:00:00.000+0000</td></tr><tr><td>web</td><td>532</td><td>3026</td><td>RETIRO</td><td>3602.66</td><td>2024-06-06</td><td>08:00:00.0</td><td>2024-06-06T08:00:00.000+0000</td></tr><tr><td>web</td><td>533</td><td>3007</td><td>PAGO</td><td>3246.83</td><td>2020-05-11</td><td>08:00:00.0</td><td>2020-05-11T08:00:00.000+0000</td></tr><tr><td>web</td><td>534</td><td>3055</td><td>RETIRO</td><td>25.44</td><td>2022-04-07</td><td>08:00:00.0</td><td>2022-04-07T08:00:00.000+0000</td></tr><tr><td>web</td><td>535</td><td>3015</td><td>COMPRA</td><td>2145.05</td><td>2024-11-23</td><td>08:00:00.0</td><td>2024-11-23T08:00:00.000+0000</td></tr><tr><td>web</td><td>536</td><td>3031</td><td>VENTA</td><td>3608.54</td><td>2022-12-11</td><td>08:00:00.0</td><td>2022-12-11T08:00:00.000+0000</td></tr><tr><td>web</td><td>537</td><td>3099</td><td>PAGO</td><td>3050.16</td><td>2021-03-08</td><td>08:00:00.0</td><td>2021-03-08T08:00:00.000+0000</td></tr><tr><td>web</td><td>538</td><td>3093</td><td>COMPRA</td><td>2099.29</td><td>2023-10-06</td><td>08:00:00.0</td><td>2023-10-06T08:00:00.000+0000</td></tr><tr><td>web</td><td>539</td><td>3092</td><td>VENTA</td><td>4233.74</td><td>2023-07-17</td><td>08:00:00.0</td><td>2023-07-17T08:00:00.000+0000</td></tr><tr><td>web</td><td>540</td><td>3089</td><td>VENTA</td><td>1402.94</td><td>2020-06-19</td><td>08:00:00.0</td><td>2020-06-19T08:00:00.000+0000</td></tr><tr><td>web</td><td>541</td><td>3013</td><td>COMPRA</td><td>2800.84</td><td>2021-12-03</td><td>08:00:00.0</td><td>2021-12-03T08:00:00.000+0000</td></tr><tr><td>web</td><td>542</td><td>3090</td><td>COMPRA</td><td>3814.18</td><td>2025-03-13</td><td>08:00:00.0</td><td>2025-03-13T08:00:00.000+0000</td></tr><tr><td>web</td><td>543</td><td>3087</td><td>PAGO</td><td>364.14</td><td>2020-05-10</td><td>08:00:00.0</td><td>2020-05-10T08:00:00.000+0000</td></tr><tr><td>web</td><td>544</td><td>3026</td><td>RETIRO</td><td>1841.95</td><td>2022-09-09</td><td>08:00:00.0</td><td>2022-09-09T08:00:00.000+0000</td></tr><tr><td>web</td><td>545</td><td>3037</td><td>PAGO</td><td>1563.91</td><td>2021-10-01</td><td>08:00:00.0</td><td>2021-10-01T08:00:00.000+0000</td></tr><tr><td>web</td><td>546</td><td>3017</td><td>COMPRA</td><td>4777.83</td><td>2023-06-09</td><td>08:00:00.0</td><td>2023-06-09T08:00:00.000+0000</td></tr><tr><td>web</td><td>547</td><td>3035</td><td>DEPOSITO</td><td>4370.15</td><td>2020-10-09</td><td>08:00:00.0</td><td>2020-10-09T08:00:00.000+0000</td></tr><tr><td>web</td><td>548</td><td>3037</td><td>DEPOSITO</td><td>3916.16</td><td>2023-12-30</td><td>08:00:00.0</td><td>2023-12-30T08:00:00.000+0000</td></tr><tr><td>web</td><td>549</td><td>3084</td><td>VENTA</td><td>2913.53</td><td>2022-02-15</td><td>08:00:00.0</td><td>2022-02-15T08:00:00.000+0000</td></tr><tr><td>web</td><td>550</td><td>3014</td><td>RETIRO</td><td>2138.81</td><td>2022-08-31</td><td>08:00:00.0</td><td>2022-08-31T08:00:00.000+0000</td></tr><tr><td>web</td><td>551</td><td>3042</td><td>VENTA</td><td>3044.5</td><td>2021-04-24</td><td>08:00:00.0</td><td>2021-04-24T08:00:00.000+0000</td></tr><tr><td>web</td><td>552</td><td>3070</td><td>VENTA</td><td>1161.43</td><td>2020-06-09</td><td>08:00:00.0</td><td>2020-06-09T08:00:00.000+0000</td></tr><tr><td>web</td><td>553</td><td>3020</td><td>PAGO</td><td>2152.49</td><td>2021-06-28</td><td>08:00:00.0</td><td>2021-06-28T08:00:00.000+0000</td></tr><tr><td>web</td><td>554</td><td>3056</td><td>COMPRA</td><td>929.01</td><td>2022-01-27</td><td>08:00:00.0</td><td>2022-01-27T08:00:00.000+0000</td></tr><tr><td>web</td><td>555</td><td>3041</td><td>RETIRO</td><td>1816.92</td><td>2022-10-23</td><td>08:00:00.0</td><td>2022-10-23T08:00:00.000+0000</td></tr><tr><td>web</td><td>556</td><td>3060</td><td>PAGO</td><td>3924.69</td><td>2023-08-09</td><td>08:00:00.0</td><td>2023-08-09T08:00:00.000+0000</td></tr><tr><td>web</td><td>557</td><td>3089</td><td>VENTA</td><td>2457.45</td><td>2020-12-05</td><td>08:00:00.0</td><td>2020-12-05T08:00:00.000+0000</td></tr><tr><td>web</td><td>558</td><td>3013</td><td>DEPOSITO</td><td>4076.78</td><td>2020-07-09</td><td>08:00:00.0</td><td>2020-07-09T08:00:00.000+0000</td></tr><tr><td>web</td><td>559</td><td>3014</td><td>PAGO</td><td>2040.47</td><td>2023-04-12</td><td>08:00:00.0</td><td>2023-04-12T08:00:00.000+0000</td></tr><tr><td>web</td><td>560</td><td>3044</td><td>PAGO</td><td>4972.54</td><td>2025-01-02</td><td>08:00:00.0</td><td>2025-01-02T08:00:00.000+0000</td></tr><tr><td>web</td><td>561</td><td>3033</td><td>RETIRO</td><td>2063.8</td><td>2024-12-07</td><td>08:00:00.0</td><td>2024-12-07T08:00:00.000+0000</td></tr><tr><td>web</td><td>562</td><td>3000</td><td>COMPRA</td><td>1103.62</td><td>2021-04-04</td><td>08:00:00.0</td><td>2021-04-04T08:00:00.000+0000</td></tr><tr><td>web</td><td>563</td><td>3089</td><td>COMPRA</td><td>873.55</td><td>2024-09-07</td><td>08:00:00.0</td><td>2024-09-07T08:00:00.000+0000</td></tr><tr><td>web</td><td>564</td><td>3046</td><td>VENTA</td><td>4517.58</td><td>2022-09-03</td><td>08:00:00.0</td><td>2022-09-03T08:00:00.000+0000</td></tr><tr><td>web</td><td>565</td><td>3056</td><td>VENTA</td><td>1280.39</td><td>2021-08-02</td><td>08:00:00.0</td><td>2021-08-02T08:00:00.000+0000</td></tr><tr><td>web</td><td>566</td><td>3092</td><td>DEPOSITO</td><td>2830.01</td><td>2020-03-27</td><td>08:00:00.0</td><td>2020-03-27T08:00:00.000+0000</td></tr><tr><td>web</td><td>567</td><td>3090</td><td>VENTA</td><td>2560.08</td><td>2022-08-08</td><td>08:00:00.0</td><td>2022-08-08T08:00:00.000+0000</td></tr><tr><td>web</td><td>568</td><td>3096</td><td>VENTA</td><td>2053.45</td><td>2020-12-29</td><td>08:00:00.0</td><td>2020-12-29T08:00:00.000+0000</td></tr><tr><td>web</td><td>569</td><td>3012</td><td>RETIRO</td><td>2348.15</td><td>2021-10-22</td><td>08:00:00.0</td><td>2021-10-22T08:00:00.000+0000</td></tr><tr><td>web</td><td>570</td><td>3098</td><td>RETIRO</td><td>3993.91</td><td>2024-06-05</td><td>08:00:00.0</td><td>2024-06-05T08:00:00.000+0000</td></tr><tr><td>web</td><td>571</td><td>3052</td><td>RETIRO</td><td>4640.88</td><td>2021-02-11</td><td>08:00:00.0</td><td>2021-02-11T08:00:00.000+0000</td></tr><tr><td>web</td><td>572</td><td>3070</td><td>RETIRO</td><td>1964.46</td><td>2020-09-22</td><td>08:00:00.0</td><td>2020-09-22T08:00:00.000+0000</td></tr><tr><td>web</td><td>573</td><td>3082</td><td>DEPOSITO</td><td>1220.84</td><td>2023-09-27</td><td>08:00:00.0</td><td>2023-09-27T08:00:00.000+0000</td></tr><tr><td>web</td><td>574</td><td>3009</td><td>RETIRO</td><td>3478.51</td><td>2022-06-27</td><td>08:00:00.0</td><td>2022-06-27T08:00:00.000+0000</td></tr><tr><td>web</td><td>575</td><td>3075</td><td>PAGO</td><td>2608.29</td><td>2022-10-13</td><td>08:00:00.0</td><td>2022-10-13T08:00:00.000+0000</td></tr><tr><td>web</td><td>576</td><td>3004</td><td>DEPOSITO</td><td>4831.81</td><td>2025-04-11</td><td>08:00:00.0</td><td>2025-04-11T08:00:00.000+0000</td></tr><tr><td>web</td><td>577</td><td>3002</td><td>DEPOSITO</td><td>4225.06</td><td>2023-05-05</td><td>08:00:00.0</td><td>2023-05-05T08:00:00.000+0000</td></tr><tr><td>web</td><td>578</td><td>3044</td><td>DEPOSITO</td><td>1713.66</td><td>2025-03-05</td><td>08:00:00.0</td><td>2025-03-05T08:00:00.000+0000</td></tr><tr><td>web</td><td>579</td><td>3095</td><td>PAGO</td><td>3741.41</td><td>2024-02-10</td><td>08:00:00.0</td><td>2024-02-10T08:00:00.000+0000</td></tr><tr><td>web</td><td>580</td><td>3093</td><td>COMPRA</td><td>4929.23</td><td>2024-06-21</td><td>08:00:00.0</td><td>2024-06-21T08:00:00.000+0000</td></tr><tr><td>web</td><td>581</td><td>3078</td><td>DEPOSITO</td><td>4526.63</td><td>2025-02-14</td><td>08:00:00.0</td><td>2025-02-14T08:00:00.000+0000</td></tr><tr><td>web</td><td>582</td><td>3083</td><td>VENTA</td><td>4533.31</td><td>2024-07-12</td><td>08:00:00.0</td><td>2024-07-12T08:00:00.000+0000</td></tr><tr><td>web</td><td>583</td><td>3070</td><td>COMPRA</td><td>1677.91</td><td>2022-05-06</td><td>08:00:00.0</td><td>2022-05-06T08:00:00.000+0000</td></tr><tr><td>web</td><td>584</td><td>3022</td><td>COMPRA</td><td>3463.3</td><td>2023-10-09</td><td>08:00:00.0</td><td>2023-10-09T08:00:00.000+0000</td></tr><tr><td>web</td><td>585</td><td>3026</td><td>VENTA</td><td>4202.55</td><td>2025-03-21</td><td>08:00:00.0</td><td>2025-03-21T08:00:00.000+0000</td></tr><tr><td>web</td><td>586</td><td>3010</td><td>RETIRO</td><td>308.22</td><td>2020-10-19</td><td>08:00:00.0</td><td>2020-10-19T08:00:00.000+0000</td></tr><tr><td>web</td><td>587</td><td>3064</td><td>DEPOSITO</td><td>3441.82</td><td>2021-09-03</td><td>08:00:00.0</td><td>2021-09-03T08:00:00.000+0000</td></tr><tr><td>web</td><td>588</td><td>3069</td><td>COMPRA</td><td>3564.15</td><td>2022-10-16</td><td>08:00:00.0</td><td>2022-10-16T08:00:00.000+0000</td></tr><tr><td>web</td><td>589</td><td>3048</td><td>COMPRA</td><td>420.08</td><td>2023-08-30</td><td>08:00:00.0</td><td>2023-08-30T08:00:00.000+0000</td></tr><tr><td>web</td><td>590</td><td>3013</td><td>COMPRA</td><td>605.45</td><td>2023-06-01</td><td>08:00:00.0</td><td>2023-06-01T08:00:00.000+0000</td></tr><tr><td>web</td><td>591</td><td>3044</td><td>COMPRA</td><td>3217.85</td><td>2020-10-03</td><td>08:00:00.0</td><td>2020-10-03T08:00:00.000+0000</td></tr><tr><td>web</td><td>592</td><td>3022</td><td>COMPRA</td><td>2397.55</td><td>2023-04-09</td><td>08:00:00.0</td><td>2023-04-09T08:00:00.000+0000</td></tr><tr><td>web</td><td>593</td><td>3095</td><td>PAGO</td><td>1919.64</td><td>2020-06-12</td><td>08:00:00.0</td><td>2020-06-12T08:00:00.000+0000</td></tr><tr><td>web</td><td>594</td><td>3004</td><td>COMPRA</td><td>2272.87</td><td>2021-11-15</td><td>08:00:00.0</td><td>2021-11-15T08:00:00.000+0000</td></tr><tr><td>web</td><td>595</td><td>3077</td><td>RETIRO</td><td>1960.56</td><td>2022-06-25</td><td>08:00:00.0</td><td>2022-06-25T08:00:00.000+0000</td></tr><tr><td>web</td><td>596</td><td>3024</td><td>PAGO</td><td>1019.67</td><td>2023-11-02</td><td>08:00:00.0</td><td>2023-11-02T08:00:00.000+0000</td></tr><tr><td>web</td><td>597</td><td>3027</td><td>VENTA</td><td>1817.17</td><td>2021-08-06</td><td>08:00:00.0</td><td>2021-08-06T08:00:00.000+0000</td></tr><tr><td>web</td><td>598</td><td>3052</td><td>COMPRA</td><td>1473.74</td><td>2023-03-10</td><td>08:00:00.0</td><td>2023-03-10T08:00:00.000+0000</td></tr><tr><td>web</td><td>599</td><td>3022</td><td>COMPRA</td><td>1673.12</td><td>2020-02-22</td><td>08:00:00.0</td><td>2020-02-22T08:00:00.000+0000</td></tr><tr><td>web</td><td>600</td><td>3018</td><td>PAGO</td><td>4154.06</td><td>2023-02-20</td><td>08:00:00.0</td><td>2023-02-20T08:00:00.000+0000</td></tr></tbody></table></div>"
      ]
     },
     "metadata": {
      "application/vnd.databricks.v1+output": {
       "addedWidgets": {},
       "aggData": [],
       "aggError": "",
       "aggOverflow": false,
       "aggSchema": [],
       "aggSeriesLimitReached": false,
       "aggType": "",
       "arguments": {},
       "columnCustomDisplayInfos": {},
       "data": [
        [
         "web",
         501,
         "3035",
         "DEPOSITO",
         2985.45,
         "2022-06-19",
         "08:00:00.0",
         "2022-06-19T08:00:00.000+0000"
        ],
        [
         "web",
         502,
         "3028",
         "VENTA",
         807.68,
         "2023-11-02",
         "08:00:00.0",
         "2023-11-02T08:00:00.000+0000"
        ],
        [
         "web",
         503,
         "3023",
         "PAGO",
         1000.53,
         "2020-08-01",
         "08:00:00.0",
         "2020-08-01T08:00:00.000+0000"
        ],
        [
         "web",
         504,
         "3013",
         "PAGO",
         2439.67,
         "2024-08-12",
         "08:00:00.0",
         "2024-08-12T08:00:00.000+0000"
        ],
        [
         "web",
         505,
         "3042",
         "RETIRO",
         4651.65,
         "2022-11-11",
         "08:00:00.0",
         "2022-11-11T08:00:00.000+0000"
        ],
        [
         "web",
         506,
         "3011",
         "COMPRA",
         3258.69,
         "2025-04-26",
         "08:00:00.0",
         "2025-04-26T08:00:00.000+0000"
        ],
        [
         "web",
         507,
         "3053",
         "DEPOSITO",
         3460.41,
         "2022-06-10",
         "08:00:00.0",
         "2022-06-10T08:00:00.000+0000"
        ],
        [
         "web",
         508,
         "3074",
         "PAGO",
         3402.76,
         "2020-03-21",
         "08:00:00.0",
         "2020-03-21T08:00:00.000+0000"
        ],
        [
         "web",
         509,
         "3069",
         "COMPRA",
         1117.49,
         "2024-05-15",
         "08:00:00.0",
         "2024-05-15T08:00:00.000+0000"
        ],
        [
         "web",
         510,
         "3030",
         "RETIRO",
         703.29,
         "2023-12-03",
         "08:00:00.0",
         "2023-12-03T08:00:00.000+0000"
        ],
        [
         "web",
         511,
         "3060",
         "COMPRA",
         1710.26,
         "2025-04-08",
         "08:00:00.0",
         "2025-04-08T08:00:00.000+0000"
        ],
        [
         "web",
         512,
         "3069",
         "RETIRO",
         111.68,
         "2021-08-05",
         "08:00:00.0",
         "2021-08-05T08:00:00.000+0000"
        ],
        [
         "web",
         513,
         "3031",
         "PAGO",
         2041.37,
         "2021-03-17",
         "08:00:00.0",
         "2021-03-17T08:00:00.000+0000"
        ],
        [
         "web",
         514,
         "3095",
         "PAGO",
         1611.54,
         "2023-02-07",
         "08:00:00.0",
         "2023-02-07T08:00:00.000+0000"
        ],
        [
         "web",
         515,
         "3066",
         "VENTA",
         3431.48,
         "2020-11-18",
         "08:00:00.0",
         "2020-11-18T08:00:00.000+0000"
        ],
        [
         "web",
         516,
         "3041",
         "PAGO",
         3970.55,
         "2021-04-15",
         "08:00:00.0",
         "2021-04-15T08:00:00.000+0000"
        ],
        [
         "web",
         517,
         "3069",
         "COMPRA",
         2116.86,
         "2025-02-06",
         "08:00:00.0",
         "2025-02-06T08:00:00.000+0000"
        ],
        [
         "web",
         518,
         "3021",
         "RETIRO",
         4965.24,
         "2021-04-25",
         "08:00:00.0",
         "2021-04-25T08:00:00.000+0000"
        ],
        [
         "web",
         519,
         "3034",
         "RETIRO",
         4780.43,
         "2021-09-03",
         "08:00:00.0",
         "2021-09-03T08:00:00.000+0000"
        ],
        [
         "web",
         520,
         "3025",
         "COMPRA",
         2431.01,
         "2022-05-28",
         "08:00:00.0",
         "2022-05-28T08:00:00.000+0000"
        ],
        [
         "web",
         521,
         "3069",
         "RETIRO",
         664.37,
         "2024-11-24",
         "08:00:00.0",
         "2024-11-24T08:00:00.000+0000"
        ],
        [
         "web",
         522,
         "3026",
         "DEPOSITO",
         4453.6,
         "2020-07-10",
         "08:00:00.0",
         "2020-07-10T08:00:00.000+0000"
        ],
        [
         "web",
         523,
         "3064",
         "VENTA",
         3581.61,
         "2023-01-29",
         "08:00:00.0",
         "2023-01-29T08:00:00.000+0000"
        ],
        [
         "web",
         524,
         "3021",
         "VENTA",
         3081.86,
         "2022-09-30",
         "08:00:00.0",
         "2022-09-30T08:00:00.000+0000"
        ],
        [
         "web",
         525,
         "3014",
         "PAGO",
         407.53,
         "2024-04-29",
         "08:00:00.0",
         "2024-04-29T08:00:00.000+0000"
        ],
        [
         "web",
         526,
         "3009",
         "COMPRA",
         3062.8,
         "2020-07-14",
         "08:00:00.0",
         "2020-07-14T08:00:00.000+0000"
        ],
        [
         "web",
         527,
         "3076",
         "VENTA",
         4952.63,
         "2024-07-20",
         "08:00:00.0",
         "2024-07-20T08:00:00.000+0000"
        ],
        [
         "web",
         528,
         "3003",
         "PAGO",
         4625.52,
         "2024-12-22",
         "08:00:00.0",
         "2024-12-22T08:00:00.000+0000"
        ],
        [
         "web",
         529,
         "3010",
         "VENTA",
         82.91,
         "2023-01-04",
         "08:00:00.0",
         "2023-01-04T08:00:00.000+0000"
        ],
        [
         "web",
         530,
         "3060",
         "DEPOSITO",
         3020.55,
         "2020-08-09",
         "08:00:00.0",
         "2020-08-09T08:00:00.000+0000"
        ],
        [
         "web",
         531,
         "3089",
         "COMPRA",
         4398.59,
         "2022-05-09",
         "08:00:00.0",
         "2022-05-09T08:00:00.000+0000"
        ],
        [
         "web",
         532,
         "3026",
         "RETIRO",
         3602.66,
         "2024-06-06",
         "08:00:00.0",
         "2024-06-06T08:00:00.000+0000"
        ],
        [
         "web",
         533,
         "3007",
         "PAGO",
         3246.83,
         "2020-05-11",
         "08:00:00.0",
         "2020-05-11T08:00:00.000+0000"
        ],
        [
         "web",
         534,
         "3055",
         "RETIRO",
         25.44,
         "2022-04-07",
         "08:00:00.0",
         "2022-04-07T08:00:00.000+0000"
        ],
        [
         "web",
         535,
         "3015",
         "COMPRA",
         2145.05,
         "2024-11-23",
         "08:00:00.0",
         "2024-11-23T08:00:00.000+0000"
        ],
        [
         "web",
         536,
         "3031",
         "VENTA",
         3608.54,
         "2022-12-11",
         "08:00:00.0",
         "2022-12-11T08:00:00.000+0000"
        ],
        [
         "web",
         537,
         "3099",
         "PAGO",
         3050.16,
         "2021-03-08",
         "08:00:00.0",
         "2021-03-08T08:00:00.000+0000"
        ],
        [
         "web",
         538,
         "3093",
         "COMPRA",
         2099.29,
         "2023-10-06",
         "08:00:00.0",
         "2023-10-06T08:00:00.000+0000"
        ],
        [
         "web",
         539,
         "3092",
         "VENTA",
         4233.74,
         "2023-07-17",
         "08:00:00.0",
         "2023-07-17T08:00:00.000+0000"
        ],
        [
         "web",
         540,
         "3089",
         "VENTA",
         1402.94,
         "2020-06-19",
         "08:00:00.0",
         "2020-06-19T08:00:00.000+0000"
        ],
        [
         "web",
         541,
         "3013",
         "COMPRA",
         2800.84,
         "2021-12-03",
         "08:00:00.0",
         "2021-12-03T08:00:00.000+0000"
        ],
        [
         "web",
         542,
         "3090",
         "COMPRA",
         3814.18,
         "2025-03-13",
         "08:00:00.0",
         "2025-03-13T08:00:00.000+0000"
        ],
        [
         "web",
         543,
         "3087",
         "PAGO",
         364.14,
         "2020-05-10",
         "08:00:00.0",
         "2020-05-10T08:00:00.000+0000"
        ],
        [
         "web",
         544,
         "3026",
         "RETIRO",
         1841.95,
         "2022-09-09",
         "08:00:00.0",
         "2022-09-09T08:00:00.000+0000"
        ],
        [
         "web",
         545,
         "3037",
         "PAGO",
         1563.91,
         "2021-10-01",
         "08:00:00.0",
         "2021-10-01T08:00:00.000+0000"
        ],
        [
         "web",
         546,
         "3017",
         "COMPRA",
         4777.83,
         "2023-06-09",
         "08:00:00.0",
         "2023-06-09T08:00:00.000+0000"
        ],
        [
         "web",
         547,
         "3035",
         "DEPOSITO",
         4370.15,
         "2020-10-09",
         "08:00:00.0",
         "2020-10-09T08:00:00.000+0000"
        ],
        [
         "web",
         548,
         "3037",
         "DEPOSITO",
         3916.16,
         "2023-12-30",
         "08:00:00.0",
         "2023-12-30T08:00:00.000+0000"
        ],
        [
         "web",
         549,
         "3084",
         "VENTA",
         2913.53,
         "2022-02-15",
         "08:00:00.0",
         "2022-02-15T08:00:00.000+0000"
        ],
        [
         "web",
         550,
         "3014",
         "RETIRO",
         2138.81,
         "2022-08-31",
         "08:00:00.0",
         "2022-08-31T08:00:00.000+0000"
        ],
        [
         "web",
         551,
         "3042",
         "VENTA",
         3044.5,
         "2021-04-24",
         "08:00:00.0",
         "2021-04-24T08:00:00.000+0000"
        ],
        [
         "web",
         552,
         "3070",
         "VENTA",
         1161.43,
         "2020-06-09",
         "08:00:00.0",
         "2020-06-09T08:00:00.000+0000"
        ],
        [
         "web",
         553,
         "3020",
         "PAGO",
         2152.49,
         "2021-06-28",
         "08:00:00.0",
         "2021-06-28T08:00:00.000+0000"
        ],
        [
         "web",
         554,
         "3056",
         "COMPRA",
         929.01,
         "2022-01-27",
         "08:00:00.0",
         "2022-01-27T08:00:00.000+0000"
        ],
        [
         "web",
         555,
         "3041",
         "RETIRO",
         1816.92,
         "2022-10-23",
         "08:00:00.0",
         "2022-10-23T08:00:00.000+0000"
        ],
        [
         "web",
         556,
         "3060",
         "PAGO",
         3924.69,
         "2023-08-09",
         "08:00:00.0",
         "2023-08-09T08:00:00.000+0000"
        ],
        [
         "web",
         557,
         "3089",
         "VENTA",
         2457.45,
         "2020-12-05",
         "08:00:00.0",
         "2020-12-05T08:00:00.000+0000"
        ],
        [
         "web",
         558,
         "3013",
         "DEPOSITO",
         4076.78,
         "2020-07-09",
         "08:00:00.0",
         "2020-07-09T08:00:00.000+0000"
        ],
        [
         "web",
         559,
         "3014",
         "PAGO",
         2040.47,
         "2023-04-12",
         "08:00:00.0",
         "2023-04-12T08:00:00.000+0000"
        ],
        [
         "web",
         560,
         "3044",
         "PAGO",
         4972.54,
         "2025-01-02",
         "08:00:00.0",
         "2025-01-02T08:00:00.000+0000"
        ],
        [
         "web",
         561,
         "3033",
         "RETIRO",
         2063.8,
         "2024-12-07",
         "08:00:00.0",
         "2024-12-07T08:00:00.000+0000"
        ],
        [
         "web",
         562,
         "3000",
         "COMPRA",
         1103.62,
         "2021-04-04",
         "08:00:00.0",
         "2021-04-04T08:00:00.000+0000"
        ],
        [
         "web",
         563,
         "3089",
         "COMPRA",
         873.55,
         "2024-09-07",
         "08:00:00.0",
         "2024-09-07T08:00:00.000+0000"
        ],
        [
         "web",
         564,
         "3046",
         "VENTA",
         4517.58,
         "2022-09-03",
         "08:00:00.0",
         "2022-09-03T08:00:00.000+0000"
        ],
        [
         "web",
         565,
         "3056",
         "VENTA",
         1280.39,
         "2021-08-02",
         "08:00:00.0",
         "2021-08-02T08:00:00.000+0000"
        ],
        [
         "web",
         566,
         "3092",
         "DEPOSITO",
         2830.01,
         "2020-03-27",
         "08:00:00.0",
         "2020-03-27T08:00:00.000+0000"
        ],
        [
         "web",
         567,
         "3090",
         "VENTA",
         2560.08,
         "2022-08-08",
         "08:00:00.0",
         "2022-08-08T08:00:00.000+0000"
        ],
        [
         "web",
         568,
         "3096",
         "VENTA",
         2053.45,
         "2020-12-29",
         "08:00:00.0",
         "2020-12-29T08:00:00.000+0000"
        ],
        [
         "web",
         569,
         "3012",
         "RETIRO",
         2348.15,
         "2021-10-22",
         "08:00:00.0",
         "2021-10-22T08:00:00.000+0000"
        ],
        [
         "web",
         570,
         "3098",
         "RETIRO",
         3993.91,
         "2024-06-05",
         "08:00:00.0",
         "2024-06-05T08:00:00.000+0000"
        ],
        [
         "web",
         571,
         "3052",
         "RETIRO",
         4640.88,
         "2021-02-11",
         "08:00:00.0",
         "2021-02-11T08:00:00.000+0000"
        ],
        [
         "web",
         572,
         "3070",
         "RETIRO",
         1964.46,
         "2020-09-22",
         "08:00:00.0",
         "2020-09-22T08:00:00.000+0000"
        ],
        [
         "web",
         573,
         "3082",
         "DEPOSITO",
         1220.84,
         "2023-09-27",
         "08:00:00.0",
         "2023-09-27T08:00:00.000+0000"
        ],
        [
         "web",
         574,
         "3009",
         "RETIRO",
         3478.51,
         "2022-06-27",
         "08:00:00.0",
         "2022-06-27T08:00:00.000+0000"
        ],
        [
         "web",
         575,
         "3075",
         "PAGO",
         2608.29,
         "2022-10-13",
         "08:00:00.0",
         "2022-10-13T08:00:00.000+0000"
        ],
        [
         "web",
         576,
         "3004",
         "DEPOSITO",
         4831.81,
         "2025-04-11",
         "08:00:00.0",
         "2025-04-11T08:00:00.000+0000"
        ],
        [
         "web",
         577,
         "3002",
         "DEPOSITO",
         4225.06,
         "2023-05-05",
         "08:00:00.0",
         "2023-05-05T08:00:00.000+0000"
        ],
        [
         "web",
         578,
         "3044",
         "DEPOSITO",
         1713.66,
         "2025-03-05",
         "08:00:00.0",
         "2025-03-05T08:00:00.000+0000"
        ],
        [
         "web",
         579,
         "3095",
         "PAGO",
         3741.41,
         "2024-02-10",
         "08:00:00.0",
         "2024-02-10T08:00:00.000+0000"
        ],
        [
         "web",
         580,
         "3093",
         "COMPRA",
         4929.23,
         "2024-06-21",
         "08:00:00.0",
         "2024-06-21T08:00:00.000+0000"
        ],
        [
         "web",
         581,
         "3078",
         "DEPOSITO",
         4526.63,
         "2025-02-14",
         "08:00:00.0",
         "2025-02-14T08:00:00.000+0000"
        ],
        [
         "web",
         582,
         "3083",
         "VENTA",
         4533.31,
         "2024-07-12",
         "08:00:00.0",
         "2024-07-12T08:00:00.000+0000"
        ],
        [
         "web",
         583,
         "3070",
         "COMPRA",
         1677.91,
         "2022-05-06",
         "08:00:00.0",
         "2022-05-06T08:00:00.000+0000"
        ],
        [
         "web",
         584,
         "3022",
         "COMPRA",
         3463.3,
         "2023-10-09",
         "08:00:00.0",
         "2023-10-09T08:00:00.000+0000"
        ],
        [
         "web",
         585,
         "3026",
         "VENTA",
         4202.55,
         "2025-03-21",
         "08:00:00.0",
         "2025-03-21T08:00:00.000+0000"
        ],
        [
         "web",
         586,
         "3010",
         "RETIRO",
         308.22,
         "2020-10-19",
         "08:00:00.0",
         "2020-10-19T08:00:00.000+0000"
        ],
        [
         "web",
         587,
         "3064",
         "DEPOSITO",
         3441.82,
         "2021-09-03",
         "08:00:00.0",
         "2021-09-03T08:00:00.000+0000"
        ],
        [
         "web",
         588,
         "3069",
         "COMPRA",
         3564.15,
         "2022-10-16",
         "08:00:00.0",
         "2022-10-16T08:00:00.000+0000"
        ],
        [
         "web",
         589,
         "3048",
         "COMPRA",
         420.08,
         "2023-08-30",
         "08:00:00.0",
         "2023-08-30T08:00:00.000+0000"
        ],
        [
         "web",
         590,
         "3013",
         "COMPRA",
         605.45,
         "2023-06-01",
         "08:00:00.0",
         "2023-06-01T08:00:00.000+0000"
        ],
        [
         "web",
         591,
         "3044",
         "COMPRA",
         3217.85,
         "2020-10-03",
         "08:00:00.0",
         "2020-10-03T08:00:00.000+0000"
        ],
        [
         "web",
         592,
         "3022",
         "COMPRA",
         2397.55,
         "2023-04-09",
         "08:00:00.0",
         "2023-04-09T08:00:00.000+0000"
        ],
        [
         "web",
         593,
         "3095",
         "PAGO",
         1919.64,
         "2020-06-12",
         "08:00:00.0",
         "2020-06-12T08:00:00.000+0000"
        ],
        [
         "web",
         594,
         "3004",
         "COMPRA",
         2272.87,
         "2021-11-15",
         "08:00:00.0",
         "2021-11-15T08:00:00.000+0000"
        ],
        [
         "web",
         595,
         "3077",
         "RETIRO",
         1960.56,
         "2022-06-25",
         "08:00:00.0",
         "2022-06-25T08:00:00.000+0000"
        ],
        [
         "web",
         596,
         "3024",
         "PAGO",
         1019.67,
         "2023-11-02",
         "08:00:00.0",
         "2023-11-02T08:00:00.000+0000"
        ],
        [
         "web",
         597,
         "3027",
         "VENTA",
         1817.17,
         "2021-08-06",
         "08:00:00.0",
         "2021-08-06T08:00:00.000+0000"
        ],
        [
         "web",
         598,
         "3052",
         "COMPRA",
         1473.74,
         "2023-03-10",
         "08:00:00.0",
         "2023-03-10T08:00:00.000+0000"
        ],
        [
         "web",
         599,
         "3022",
         "COMPRA",
         1673.12,
         "2020-02-22",
         "08:00:00.0",
         "2020-02-22T08:00:00.000+0000"
        ],
        [
         "web",
         600,
         "3018",
         "PAGO",
         4154.06,
         "2023-02-20",
         "08:00:00.0",
         "2023-02-20T08:00:00.000+0000"
        ]
       ],
       "datasetInfos": [],
       "dbfsResultPath": null,
       "isJsonSchema": true,
       "metadata": {},
       "overflow": false,
       "plotOptions": {
        "customPlotOptions": {},
        "displayType": "table",
        "pivotAggregation": null,
        "pivotColumns": null,
        "xColumns": null,
        "yColumns": null
       },
       "removedWidgets": [],
       "schema": [
        {
         "metadata": "{}",
         "name": "canal",
         "type": "\"string\""
        },
        {
         "metadata": "{}",
         "name": "id_trx",
         "type": "\"integer\""
        },
        {
         "metadata": "{}",
         "name": "id_usuario",
         "type": "\"string\""
        },
        {
         "metadata": "{}",
         "name": "operacion",
         "type": "\"string\""
        },
        {
         "metadata": "{}",
         "name": "monto",
         "type": "\"double\""
        },
        {
         "metadata": "{}",
         "name": "fecha",
         "type": "\"date\""
        },
        {
         "metadata": "{}",
         "name": "hora",
         "type": "\"string\""
        },
        {
         "metadata": "{}",
         "name": "fecha_hora",
         "type": "\"timestamp\""
        }
       ],
       "type": "table"
      }
     },
     "output_type": "display_data"
    }
   ],
   "source": [
    "silver_transacciones = spark.table(SILVER_TRANSACCIONES_TABLE)\n",
    "display(silver_transacciones)"
   ]
  },
  {
   "cell_type": "code",
   "execution_count": 0,
   "metadata": {
    "application/vnd.databricks.v1+cell": {
     "cellMetadata": {
      "byteLimit": 2048000,
      "rowLimit": 10000
     },
     "inputWidgets": {},
     "nuid": "bff9dae1-b36f-4431-9fa5-a825365d4284",
     "showTitle": false,
     "tableResultSettingsMap": {},
     "title": ""
    }
   },
   "outputs": [],
   "source": [
    "df_sin_duplicados = silver_transacciones.dropDuplicates()\n",
    "df_sin_duplicados.write \\\n",
    "    .mode(\"overwrite\") \\\n",
    "    .saveAsTable(\"silver_transacciones\")"
   ]
  },
  {
   "cell_type": "code",
   "execution_count": 0,
   "metadata": {
    "application/vnd.databricks.v1+cell": {
     "cellMetadata": {
      "byteLimit": 2048000,
      "rowLimit": 10000
     },
     "inputWidgets": {},
     "nuid": "85f60236-0d2a-479c-8433-a4dcf7a8d951",
     "showTitle": false,
     "tableResultSettingsMap": {},
     "title": ""
    }
   },
   "outputs": [
    {
     "output_type": "display_data",
     "data": {
      "text/html": [
       "<style scoped>\n",
       "  .table-result-container {\n",
       "    max-height: 300px;\n",
       "    overflow: auto;\n",
       "  }\n",
       "  table, th, td {\n",
       "    border: 1px solid black;\n",
       "    border-collapse: collapse;\n",
       "  }\n",
       "  th, td {\n",
       "    padding: 5px;\n",
       "  }\n",
       "  th {\n",
       "    text-align: left;\n",
       "  }\n",
       "</style><div class='table-result-container'><table class='table-result'><thead style='background-color: white'><tr><th>canal</th><th>id_trx</th><th>id_usuario</th><th>operacion</th><th>monto</th><th>fecha</th><th>hora</th><th>fecha_hora</th></tr></thead><tbody><tr><td>web</td><td>558</td><td>3013</td><td>DEPOSITO</td><td>4076.78</td><td>2020-07-09</td><td>08:00:00.0</td><td>2020-07-09T08:00:00.000+0000</td></tr><tr><td>web</td><td>560</td><td>3044</td><td>PAGO</td><td>4972.54</td><td>2025-01-02</td><td>08:00:00.0</td><td>2025-01-02T08:00:00.000+0000</td></tr><tr><td>web</td><td>585</td><td>3026</td><td>VENTA</td><td>4202.55</td><td>2025-03-21</td><td>08:00:00.0</td><td>2025-03-21T08:00:00.000+0000</td></tr><tr><td>web</td><td>529</td><td>3010</td><td>VENTA</td><td>82.91</td><td>2023-01-04</td><td>08:00:00.0</td><td>2023-01-04T08:00:00.000+0000</td></tr><tr><td>web</td><td>523</td><td>3064</td><td>VENTA</td><td>3581.61</td><td>2023-01-29</td><td>08:00:00.0</td><td>2023-01-29T08:00:00.000+0000</td></tr><tr><td>web</td><td>512</td><td>3069</td><td>RETIRO</td><td>111.68</td><td>2021-08-05</td><td>08:00:00.0</td><td>2021-08-05T08:00:00.000+0000</td></tr><tr><td>web</td><td>538</td><td>3093</td><td>COMPRA</td><td>2099.29</td><td>2023-10-06</td><td>08:00:00.0</td><td>2023-10-06T08:00:00.000+0000</td></tr><tr><td>web</td><td>554</td><td>3056</td><td>COMPRA</td><td>929.01</td><td>2022-01-27</td><td>08:00:00.0</td><td>2022-01-27T08:00:00.000+0000</td></tr><tr><td>web</td><td>579</td><td>3095</td><td>PAGO</td><td>3741.41</td><td>2024-02-10</td><td>08:00:00.0</td><td>2024-02-10T08:00:00.000+0000</td></tr><tr><td>web</td><td>507</td><td>3053</td><td>DEPOSITO</td><td>3460.41</td><td>2022-06-10</td><td>08:00:00.0</td><td>2022-06-10T08:00:00.000+0000</td></tr><tr><td>web</td><td>576</td><td>3004</td><td>DEPOSITO</td><td>4831.81</td><td>2025-04-11</td><td>08:00:00.0</td><td>2025-04-11T08:00:00.000+0000</td></tr><tr><td>web</td><td>516</td><td>3041</td><td>PAGO</td><td>3970.55</td><td>2021-04-15</td><td>08:00:00.0</td><td>2021-04-15T08:00:00.000+0000</td></tr><tr><td>web</td><td>597</td><td>3027</td><td>VENTA</td><td>1817.17</td><td>2021-08-06</td><td>08:00:00.0</td><td>2021-08-06T08:00:00.000+0000</td></tr><tr><td>web</td><td>519</td><td>3034</td><td>RETIRO</td><td>4780.43</td><td>2021-09-03</td><td>08:00:00.0</td><td>2021-09-03T08:00:00.000+0000</td></tr><tr><td>web</td><td>518</td><td>3021</td><td>RETIRO</td><td>4965.24</td><td>2021-04-25</td><td>08:00:00.0</td><td>2021-04-25T08:00:00.000+0000</td></tr><tr><td>web</td><td>562</td><td>3000</td><td>COMPRA</td><td>1103.62</td><td>2021-04-04</td><td>08:00:00.0</td><td>2021-04-04T08:00:00.000+0000</td></tr><tr><td>web</td><td>588</td><td>3069</td><td>COMPRA</td><td>3564.15</td><td>2022-10-16</td><td>08:00:00.0</td><td>2022-10-16T08:00:00.000+0000</td></tr><tr><td>web</td><td>504</td><td>3013</td><td>PAGO</td><td>2439.67</td><td>2024-08-12</td><td>08:00:00.0</td><td>2024-08-12T08:00:00.000+0000</td></tr><tr><td>web</td><td>526</td><td>3009</td><td>COMPRA</td><td>3062.8</td><td>2020-07-14</td><td>08:00:00.0</td><td>2020-07-14T08:00:00.000+0000</td></tr><tr><td>web</td><td>591</td><td>3044</td><td>COMPRA</td><td>3217.85</td><td>2020-10-03</td><td>08:00:00.0</td><td>2020-10-03T08:00:00.000+0000</td></tr><tr><td>web</td><td>502</td><td>3028</td><td>VENTA</td><td>807.68</td><td>2023-11-02</td><td>08:00:00.0</td><td>2023-11-02T08:00:00.000+0000</td></tr><tr><td>web</td><td>551</td><td>3042</td><td>VENTA</td><td>3044.5</td><td>2021-04-24</td><td>08:00:00.0</td><td>2021-04-24T08:00:00.000+0000</td></tr><tr><td>web</td><td>575</td><td>3075</td><td>PAGO</td><td>2608.29</td><td>2022-10-13</td><td>08:00:00.0</td><td>2022-10-13T08:00:00.000+0000</td></tr><tr><td>web</td><td>548</td><td>3037</td><td>DEPOSITO</td><td>3916.16</td><td>2023-12-30</td><td>08:00:00.0</td><td>2023-12-30T08:00:00.000+0000</td></tr><tr><td>web</td><td>514</td><td>3095</td><td>PAGO</td><td>1611.54</td><td>2023-02-07</td><td>08:00:00.0</td><td>2023-02-07T08:00:00.000+0000</td></tr><tr><td>web</td><td>549</td><td>3084</td><td>VENTA</td><td>2913.53</td><td>2022-02-15</td><td>08:00:00.0</td><td>2022-02-15T08:00:00.000+0000</td></tr><tr><td>web</td><td>595</td><td>3077</td><td>RETIRO</td><td>1960.56</td><td>2022-06-25</td><td>08:00:00.0</td><td>2022-06-25T08:00:00.000+0000</td></tr><tr><td>web</td><td>510</td><td>3030</td><td>RETIRO</td><td>703.29</td><td>2023-12-03</td><td>08:00:00.0</td><td>2023-12-03T08:00:00.000+0000</td></tr><tr><td>web</td><td>543</td><td>3087</td><td>PAGO</td><td>364.14</td><td>2020-05-10</td><td>08:00:00.0</td><td>2020-05-10T08:00:00.000+0000</td></tr><tr><td>web</td><td>593</td><td>3095</td><td>PAGO</td><td>1919.64</td><td>2020-06-12</td><td>08:00:00.0</td><td>2020-06-12T08:00:00.000+0000</td></tr><tr><td>web</td><td>552</td><td>3070</td><td>VENTA</td><td>1161.43</td><td>2020-06-09</td><td>08:00:00.0</td><td>2020-06-09T08:00:00.000+0000</td></tr><tr><td>web</td><td>555</td><td>3041</td><td>RETIRO</td><td>1816.92</td><td>2022-10-23</td><td>08:00:00.0</td><td>2022-10-23T08:00:00.000+0000</td></tr><tr><td>web</td><td>541</td><td>3013</td><td>COMPRA</td><td>2800.84</td><td>2021-12-03</td><td>08:00:00.0</td><td>2021-12-03T08:00:00.000+0000</td></tr><tr><td>web</td><td>556</td><td>3060</td><td>PAGO</td><td>3924.69</td><td>2023-08-09</td><td>08:00:00.0</td><td>2023-08-09T08:00:00.000+0000</td></tr><tr><td>web</td><td>547</td><td>3035</td><td>DEPOSITO</td><td>4370.15</td><td>2020-10-09</td><td>08:00:00.0</td><td>2020-10-09T08:00:00.000+0000</td></tr><tr><td>web</td><td>535</td><td>3015</td><td>COMPRA</td><td>2145.05</td><td>2024-11-23</td><td>08:00:00.0</td><td>2024-11-23T08:00:00.000+0000</td></tr><tr><td>web</td><td>522</td><td>3026</td><td>DEPOSITO</td><td>4453.6</td><td>2020-07-10</td><td>08:00:00.0</td><td>2020-07-10T08:00:00.000+0000</td></tr><tr><td>web</td><td>569</td><td>3012</td><td>RETIRO</td><td>2348.15</td><td>2021-10-22</td><td>08:00:00.0</td><td>2021-10-22T08:00:00.000+0000</td></tr><tr><td>web</td><td>505</td><td>3042</td><td>RETIRO</td><td>4651.65</td><td>2022-11-11</td><td>08:00:00.0</td><td>2022-11-11T08:00:00.000+0000</td></tr><tr><td>web</td><td>501</td><td>3035</td><td>DEPOSITO</td><td>2985.45</td><td>2022-06-19</td><td>08:00:00.0</td><td>2022-06-19T08:00:00.000+0000</td></tr><tr><td>web</td><td>506</td><td>3011</td><td>COMPRA</td><td>3258.69</td><td>2025-04-26</td><td>08:00:00.0</td><td>2025-04-26T08:00:00.000+0000</td></tr><tr><td>web</td><td>564</td><td>3046</td><td>VENTA</td><td>4517.58</td><td>2022-09-03</td><td>08:00:00.0</td><td>2022-09-03T08:00:00.000+0000</td></tr><tr><td>web</td><td>584</td><td>3022</td><td>COMPRA</td><td>3463.3</td><td>2023-10-09</td><td>08:00:00.0</td><td>2023-10-09T08:00:00.000+0000</td></tr><tr><td>web</td><td>565</td><td>3056</td><td>VENTA</td><td>1280.39</td><td>2021-08-02</td><td>08:00:00.0</td><td>2021-08-02T08:00:00.000+0000</td></tr><tr><td>web</td><td>587</td><td>3064</td><td>DEPOSITO</td><td>3441.82</td><td>2021-09-03</td><td>08:00:00.0</td><td>2021-09-03T08:00:00.000+0000</td></tr><tr><td>web</td><td>517</td><td>3069</td><td>COMPRA</td><td>2116.86</td><td>2025-02-06</td><td>08:00:00.0</td><td>2025-02-06T08:00:00.000+0000</td></tr><tr><td>web</td><td>577</td><td>3002</td><td>DEPOSITO</td><td>4225.06</td><td>2023-05-05</td><td>08:00:00.0</td><td>2023-05-05T08:00:00.000+0000</td></tr><tr><td>web</td><td>598</td><td>3052</td><td>COMPRA</td><td>1473.74</td><td>2023-03-10</td><td>08:00:00.0</td><td>2023-03-10T08:00:00.000+0000</td></tr><tr><td>web</td><td>533</td><td>3007</td><td>PAGO</td><td>3246.83</td><td>2020-05-11</td><td>08:00:00.0</td><td>2020-05-11T08:00:00.000+0000</td></tr><tr><td>web</td><td>513</td><td>3031</td><td>PAGO</td><td>2041.37</td><td>2021-03-17</td><td>08:00:00.0</td><td>2021-03-17T08:00:00.000+0000</td></tr><tr><td>web</td><td>546</td><td>3017</td><td>COMPRA</td><td>4777.83</td><td>2023-06-09</td><td>08:00:00.0</td><td>2023-06-09T08:00:00.000+0000</td></tr><tr><td>web</td><td>571</td><td>3052</td><td>RETIRO</td><td>4640.88</td><td>2021-02-11</td><td>08:00:00.0</td><td>2021-02-11T08:00:00.000+0000</td></tr><tr><td>web</td><td>540</td><td>3089</td><td>VENTA</td><td>1402.94</td><td>2020-06-19</td><td>08:00:00.0</td><td>2020-06-19T08:00:00.000+0000</td></tr><tr><td>web</td><td>581</td><td>3078</td><td>DEPOSITO</td><td>4526.63</td><td>2025-02-14</td><td>08:00:00.0</td><td>2025-02-14T08:00:00.000+0000</td></tr><tr><td>web</td><td>582</td><td>3083</td><td>VENTA</td><td>4533.31</td><td>2024-07-12</td><td>08:00:00.0</td><td>2024-07-12T08:00:00.000+0000</td></tr><tr><td>web</td><td>545</td><td>3037</td><td>PAGO</td><td>1563.91</td><td>2021-10-01</td><td>08:00:00.0</td><td>2021-10-01T08:00:00.000+0000</td></tr><tr><td>web</td><td>568</td><td>3096</td><td>VENTA</td><td>2053.45</td><td>2020-12-29</td><td>08:00:00.0</td><td>2020-12-29T08:00:00.000+0000</td></tr><tr><td>web</td><td>594</td><td>3004</td><td>COMPRA</td><td>2272.87</td><td>2021-11-15</td><td>08:00:00.0</td><td>2021-11-15T08:00:00.000+0000</td></tr><tr><td>web</td><td>531</td><td>3089</td><td>COMPRA</td><td>4398.59</td><td>2022-05-09</td><td>08:00:00.0</td><td>2022-05-09T08:00:00.000+0000</td></tr><tr><td>web</td><td>563</td><td>3089</td><td>COMPRA</td><td>873.55</td><td>2024-09-07</td><td>08:00:00.0</td><td>2024-09-07T08:00:00.000+0000</td></tr><tr><td>web</td><td>590</td><td>3013</td><td>COMPRA</td><td>605.45</td><td>2023-06-01</td><td>08:00:00.0</td><td>2023-06-01T08:00:00.000+0000</td></tr><tr><td>web</td><td>599</td><td>3022</td><td>COMPRA</td><td>1673.12</td><td>2020-02-22</td><td>08:00:00.0</td><td>2020-02-22T08:00:00.000+0000</td></tr><tr><td>web</td><td>557</td><td>3089</td><td>VENTA</td><td>2457.45</td><td>2020-12-05</td><td>08:00:00.0</td><td>2020-12-05T08:00:00.000+0000</td></tr><tr><td>web</td><td>586</td><td>3010</td><td>RETIRO</td><td>308.22</td><td>2020-10-19</td><td>08:00:00.0</td><td>2020-10-19T08:00:00.000+0000</td></tr><tr><td>web</td><td>528</td><td>3003</td><td>PAGO</td><td>4625.52</td><td>2024-12-22</td><td>08:00:00.0</td><td>2024-12-22T08:00:00.000+0000</td></tr><tr><td>web</td><td>550</td><td>3014</td><td>RETIRO</td><td>2138.81</td><td>2022-08-31</td><td>08:00:00.0</td><td>2022-08-31T08:00:00.000+0000</td></tr><tr><td>web</td><td>539</td><td>3092</td><td>VENTA</td><td>4233.74</td><td>2023-07-17</td><td>08:00:00.0</td><td>2023-07-17T08:00:00.000+0000</td></tr><tr><td>web</td><td>520</td><td>3025</td><td>COMPRA</td><td>2431.01</td><td>2022-05-28</td><td>08:00:00.0</td><td>2022-05-28T08:00:00.000+0000</td></tr><tr><td>web</td><td>525</td><td>3014</td><td>PAGO</td><td>407.53</td><td>2024-04-29</td><td>08:00:00.0</td><td>2024-04-29T08:00:00.000+0000</td></tr><tr><td>web</td><td>566</td><td>3092</td><td>DEPOSITO</td><td>2830.01</td><td>2020-03-27</td><td>08:00:00.0</td><td>2020-03-27T08:00:00.000+0000</td></tr><tr><td>web</td><td>589</td><td>3048</td><td>COMPRA</td><td>420.08</td><td>2023-08-30</td><td>08:00:00.0</td><td>2023-08-30T08:00:00.000+0000</td></tr><tr><td>web</td><td>508</td><td>3074</td><td>PAGO</td><td>3402.76</td><td>2020-03-21</td><td>08:00:00.0</td><td>2020-03-21T08:00:00.000+0000</td></tr><tr><td>web</td><td>544</td><td>3026</td><td>RETIRO</td><td>1841.95</td><td>2022-09-09</td><td>08:00:00.0</td><td>2022-09-09T08:00:00.000+0000</td></tr><tr><td>web</td><td>592</td><td>3022</td><td>COMPRA</td><td>2397.55</td><td>2023-04-09</td><td>08:00:00.0</td><td>2023-04-09T08:00:00.000+0000</td></tr><tr><td>web</td><td>503</td><td>3023</td><td>PAGO</td><td>1000.53</td><td>2020-08-01</td><td>08:00:00.0</td><td>2020-08-01T08:00:00.000+0000</td></tr><tr><td>web</td><td>536</td><td>3031</td><td>VENTA</td><td>3608.54</td><td>2022-12-11</td><td>08:00:00.0</td><td>2022-12-11T08:00:00.000+0000</td></tr><tr><td>web</td><td>570</td><td>3098</td><td>RETIRO</td><td>3993.91</td><td>2024-06-05</td><td>08:00:00.0</td><td>2024-06-05T08:00:00.000+0000</td></tr><tr><td>web</td><td>578</td><td>3044</td><td>DEPOSITO</td><td>1713.66</td><td>2025-03-05</td><td>08:00:00.0</td><td>2025-03-05T08:00:00.000+0000</td></tr><tr><td>web</td><td>596</td><td>3024</td><td>PAGO</td><td>1019.67</td><td>2023-11-02</td><td>08:00:00.0</td><td>2023-11-02T08:00:00.000+0000</td></tr><tr><td>web</td><td>553</td><td>3020</td><td>PAGO</td><td>2152.49</td><td>2021-06-28</td><td>08:00:00.0</td><td>2021-06-28T08:00:00.000+0000</td></tr><tr><td>web</td><td>583</td><td>3070</td><td>COMPRA</td><td>1677.91</td><td>2022-05-06</td><td>08:00:00.0</td><td>2022-05-06T08:00:00.000+0000</td></tr><tr><td>web</td><td>532</td><td>3026</td><td>RETIRO</td><td>3602.66</td><td>2024-06-06</td><td>08:00:00.0</td><td>2024-06-06T08:00:00.000+0000</td></tr><tr><td>web</td><td>515</td><td>3066</td><td>VENTA</td><td>3431.48</td><td>2020-11-18</td><td>08:00:00.0</td><td>2020-11-18T08:00:00.000+0000</td></tr><tr><td>web</td><td>600</td><td>3018</td><td>PAGO</td><td>4154.06</td><td>2023-02-20</td><td>08:00:00.0</td><td>2023-02-20T08:00:00.000+0000</td></tr><tr><td>web</td><td>524</td><td>3021</td><td>VENTA</td><td>3081.86</td><td>2022-09-30</td><td>08:00:00.0</td><td>2022-09-30T08:00:00.000+0000</td></tr><tr><td>web</td><td>559</td><td>3014</td><td>PAGO</td><td>2040.47</td><td>2023-04-12</td><td>08:00:00.0</td><td>2023-04-12T08:00:00.000+0000</td></tr><tr><td>web</td><td>580</td><td>3093</td><td>COMPRA</td><td>4929.23</td><td>2024-06-21</td><td>08:00:00.0</td><td>2024-06-21T08:00:00.000+0000</td></tr><tr><td>web</td><td>561</td><td>3033</td><td>RETIRO</td><td>2063.8</td><td>2024-12-07</td><td>08:00:00.0</td><td>2024-12-07T08:00:00.000+0000</td></tr><tr><td>web</td><td>530</td><td>3060</td><td>DEPOSITO</td><td>3020.55</td><td>2020-08-09</td><td>08:00:00.0</td><td>2020-08-09T08:00:00.000+0000</td></tr><tr><td>web</td><td>521</td><td>3069</td><td>RETIRO</td><td>664.37</td><td>2024-11-24</td><td>08:00:00.0</td><td>2024-11-24T08:00:00.000+0000</td></tr><tr><td>web</td><td>511</td><td>3060</td><td>COMPRA</td><td>1710.26</td><td>2025-04-08</td><td>08:00:00.0</td><td>2025-04-08T08:00:00.000+0000</td></tr><tr><td>web</td><td>567</td><td>3090</td><td>VENTA</td><td>2560.08</td><td>2022-08-08</td><td>08:00:00.0</td><td>2022-08-08T08:00:00.000+0000</td></tr><tr><td>web</td><td>509</td><td>3069</td><td>COMPRA</td><td>1117.49</td><td>2024-05-15</td><td>08:00:00.0</td><td>2024-05-15T08:00:00.000+0000</td></tr><tr><td>web</td><td>573</td><td>3082</td><td>DEPOSITO</td><td>1220.84</td><td>2023-09-27</td><td>08:00:00.0</td><td>2023-09-27T08:00:00.000+0000</td></tr><tr><td>web</td><td>574</td><td>3009</td><td>RETIRO</td><td>3478.51</td><td>2022-06-27</td><td>08:00:00.0</td><td>2022-06-27T08:00:00.000+0000</td></tr><tr><td>web</td><td>527</td><td>3076</td><td>VENTA</td><td>4952.63</td><td>2024-07-20</td><td>08:00:00.0</td><td>2024-07-20T08:00:00.000+0000</td></tr><tr><td>web</td><td>534</td><td>3055</td><td>RETIRO</td><td>25.44</td><td>2022-04-07</td><td>08:00:00.0</td><td>2022-04-07T08:00:00.000+0000</td></tr><tr><td>web</td><td>542</td><td>3090</td><td>COMPRA</td><td>3814.18</td><td>2025-03-13</td><td>08:00:00.0</td><td>2025-03-13T08:00:00.000+0000</td></tr><tr><td>web</td><td>537</td><td>3099</td><td>PAGO</td><td>3050.16</td><td>2021-03-08</td><td>08:00:00.0</td><td>2021-03-08T08:00:00.000+0000</td></tr><tr><td>web</td><td>572</td><td>3070</td><td>RETIRO</td><td>1964.46</td><td>2020-09-22</td><td>08:00:00.0</td><td>2020-09-22T08:00:00.000+0000</td></tr></tbody></table></div>"
      ]
     },
     "metadata": {
      "application/vnd.databricks.v1+output": {
       "addedWidgets": {},
       "aggData": [],
       "aggError": "",
       "aggOverflow": false,
       "aggSchema": [],
       "aggSeriesLimitReached": false,
       "aggType": "",
       "arguments": {},
       "columnCustomDisplayInfos": {},
       "data": [
        [
         "web",
         558,
         "3013",
         "DEPOSITO",
         4076.78,
         "2020-07-09",
         "08:00:00.0",
         "2020-07-09T08:00:00.000+0000"
        ],
        [
         "web",
         560,
         "3044",
         "PAGO",
         4972.54,
         "2025-01-02",
         "08:00:00.0",
         "2025-01-02T08:00:00.000+0000"
        ],
        [
         "web",
         585,
         "3026",
         "VENTA",
         4202.55,
         "2025-03-21",
         "08:00:00.0",
         "2025-03-21T08:00:00.000+0000"
        ],
        [
         "web",
         529,
         "3010",
         "VENTA",
         82.91,
         "2023-01-04",
         "08:00:00.0",
         "2023-01-04T08:00:00.000+0000"
        ],
        [
         "web",
         523,
         "3064",
         "VENTA",
         3581.61,
         "2023-01-29",
         "08:00:00.0",
         "2023-01-29T08:00:00.000+0000"
        ],
        [
         "web",
         512,
         "3069",
         "RETIRO",
         111.68,
         "2021-08-05",
         "08:00:00.0",
         "2021-08-05T08:00:00.000+0000"
        ],
        [
         "web",
         538,
         "3093",
         "COMPRA",
         2099.29,
         "2023-10-06",
         "08:00:00.0",
         "2023-10-06T08:00:00.000+0000"
        ],
        [
         "web",
         554,
         "3056",
         "COMPRA",
         929.01,
         "2022-01-27",
         "08:00:00.0",
         "2022-01-27T08:00:00.000+0000"
        ],
        [
         "web",
         579,
         "3095",
         "PAGO",
         3741.41,
         "2024-02-10",
         "08:00:00.0",
         "2024-02-10T08:00:00.000+0000"
        ],
        [
         "web",
         507,
         "3053",
         "DEPOSITO",
         3460.41,
         "2022-06-10",
         "08:00:00.0",
         "2022-06-10T08:00:00.000+0000"
        ],
        [
         "web",
         576,
         "3004",
         "DEPOSITO",
         4831.81,
         "2025-04-11",
         "08:00:00.0",
         "2025-04-11T08:00:00.000+0000"
        ],
        [
         "web",
         516,
         "3041",
         "PAGO",
         3970.55,
         "2021-04-15",
         "08:00:00.0",
         "2021-04-15T08:00:00.000+0000"
        ],
        [
         "web",
         597,
         "3027",
         "VENTA",
         1817.17,
         "2021-08-06",
         "08:00:00.0",
         "2021-08-06T08:00:00.000+0000"
        ],
        [
         "web",
         519,
         "3034",
         "RETIRO",
         4780.43,
         "2021-09-03",
         "08:00:00.0",
         "2021-09-03T08:00:00.000+0000"
        ],
        [
         "web",
         518,
         "3021",
         "RETIRO",
         4965.24,
         "2021-04-25",
         "08:00:00.0",
         "2021-04-25T08:00:00.000+0000"
        ],
        [
         "web",
         562,
         "3000",
         "COMPRA",
         1103.62,
         "2021-04-04",
         "08:00:00.0",
         "2021-04-04T08:00:00.000+0000"
        ],
        [
         "web",
         588,
         "3069",
         "COMPRA",
         3564.15,
         "2022-10-16",
         "08:00:00.0",
         "2022-10-16T08:00:00.000+0000"
        ],
        [
         "web",
         504,
         "3013",
         "PAGO",
         2439.67,
         "2024-08-12",
         "08:00:00.0",
         "2024-08-12T08:00:00.000+0000"
        ],
        [
         "web",
         526,
         "3009",
         "COMPRA",
         3062.8,
         "2020-07-14",
         "08:00:00.0",
         "2020-07-14T08:00:00.000+0000"
        ],
        [
         "web",
         591,
         "3044",
         "COMPRA",
         3217.85,
         "2020-10-03",
         "08:00:00.0",
         "2020-10-03T08:00:00.000+0000"
        ],
        [
         "web",
         502,
         "3028",
         "VENTA",
         807.68,
         "2023-11-02",
         "08:00:00.0",
         "2023-11-02T08:00:00.000+0000"
        ],
        [
         "web",
         551,
         "3042",
         "VENTA",
         3044.5,
         "2021-04-24",
         "08:00:00.0",
         "2021-04-24T08:00:00.000+0000"
        ],
        [
         "web",
         575,
         "3075",
         "PAGO",
         2608.29,
         "2022-10-13",
         "08:00:00.0",
         "2022-10-13T08:00:00.000+0000"
        ],
        [
         "web",
         548,
         "3037",
         "DEPOSITO",
         3916.16,
         "2023-12-30",
         "08:00:00.0",
         "2023-12-30T08:00:00.000+0000"
        ],
        [
         "web",
         514,
         "3095",
         "PAGO",
         1611.54,
         "2023-02-07",
         "08:00:00.0",
         "2023-02-07T08:00:00.000+0000"
        ],
        [
         "web",
         549,
         "3084",
         "VENTA",
         2913.53,
         "2022-02-15",
         "08:00:00.0",
         "2022-02-15T08:00:00.000+0000"
        ],
        [
         "web",
         595,
         "3077",
         "RETIRO",
         1960.56,
         "2022-06-25",
         "08:00:00.0",
         "2022-06-25T08:00:00.000+0000"
        ],
        [
         "web",
         510,
         "3030",
         "RETIRO",
         703.29,
         "2023-12-03",
         "08:00:00.0",
         "2023-12-03T08:00:00.000+0000"
        ],
        [
         "web",
         543,
         "3087",
         "PAGO",
         364.14,
         "2020-05-10",
         "08:00:00.0",
         "2020-05-10T08:00:00.000+0000"
        ],
        [
         "web",
         593,
         "3095",
         "PAGO",
         1919.64,
         "2020-06-12",
         "08:00:00.0",
         "2020-06-12T08:00:00.000+0000"
        ],
        [
         "web",
         552,
         "3070",
         "VENTA",
         1161.43,
         "2020-06-09",
         "08:00:00.0",
         "2020-06-09T08:00:00.000+0000"
        ],
        [
         "web",
         555,
         "3041",
         "RETIRO",
         1816.92,
         "2022-10-23",
         "08:00:00.0",
         "2022-10-23T08:00:00.000+0000"
        ],
        [
         "web",
         541,
         "3013",
         "COMPRA",
         2800.84,
         "2021-12-03",
         "08:00:00.0",
         "2021-12-03T08:00:00.000+0000"
        ],
        [
         "web",
         556,
         "3060",
         "PAGO",
         3924.69,
         "2023-08-09",
         "08:00:00.0",
         "2023-08-09T08:00:00.000+0000"
        ],
        [
         "web",
         547,
         "3035",
         "DEPOSITO",
         4370.15,
         "2020-10-09",
         "08:00:00.0",
         "2020-10-09T08:00:00.000+0000"
        ],
        [
         "web",
         535,
         "3015",
         "COMPRA",
         2145.05,
         "2024-11-23",
         "08:00:00.0",
         "2024-11-23T08:00:00.000+0000"
        ],
        [
         "web",
         522,
         "3026",
         "DEPOSITO",
         4453.6,
         "2020-07-10",
         "08:00:00.0",
         "2020-07-10T08:00:00.000+0000"
        ],
        [
         "web",
         569,
         "3012",
         "RETIRO",
         2348.15,
         "2021-10-22",
         "08:00:00.0",
         "2021-10-22T08:00:00.000+0000"
        ],
        [
         "web",
         505,
         "3042",
         "RETIRO",
         4651.65,
         "2022-11-11",
         "08:00:00.0",
         "2022-11-11T08:00:00.000+0000"
        ],
        [
         "web",
         501,
         "3035",
         "DEPOSITO",
         2985.45,
         "2022-06-19",
         "08:00:00.0",
         "2022-06-19T08:00:00.000+0000"
        ],
        [
         "web",
         506,
         "3011",
         "COMPRA",
         3258.69,
         "2025-04-26",
         "08:00:00.0",
         "2025-04-26T08:00:00.000+0000"
        ],
        [
         "web",
         564,
         "3046",
         "VENTA",
         4517.58,
         "2022-09-03",
         "08:00:00.0",
         "2022-09-03T08:00:00.000+0000"
        ],
        [
         "web",
         584,
         "3022",
         "COMPRA",
         3463.3,
         "2023-10-09",
         "08:00:00.0",
         "2023-10-09T08:00:00.000+0000"
        ],
        [
         "web",
         565,
         "3056",
         "VENTA",
         1280.39,
         "2021-08-02",
         "08:00:00.0",
         "2021-08-02T08:00:00.000+0000"
        ],
        [
         "web",
         587,
         "3064",
         "DEPOSITO",
         3441.82,
         "2021-09-03",
         "08:00:00.0",
         "2021-09-03T08:00:00.000+0000"
        ],
        [
         "web",
         517,
         "3069",
         "COMPRA",
         2116.86,
         "2025-02-06",
         "08:00:00.0",
         "2025-02-06T08:00:00.000+0000"
        ],
        [
         "web",
         577,
         "3002",
         "DEPOSITO",
         4225.06,
         "2023-05-05",
         "08:00:00.0",
         "2023-05-05T08:00:00.000+0000"
        ],
        [
         "web",
         598,
         "3052",
         "COMPRA",
         1473.74,
         "2023-03-10",
         "08:00:00.0",
         "2023-03-10T08:00:00.000+0000"
        ],
        [
         "web",
         533,
         "3007",
         "PAGO",
         3246.83,
         "2020-05-11",
         "08:00:00.0",
         "2020-05-11T08:00:00.000+0000"
        ],
        [
         "web",
         513,
         "3031",
         "PAGO",
         2041.37,
         "2021-03-17",
         "08:00:00.0",
         "2021-03-17T08:00:00.000+0000"
        ],
        [
         "web",
         546,
         "3017",
         "COMPRA",
         4777.83,
         "2023-06-09",
         "08:00:00.0",
         "2023-06-09T08:00:00.000+0000"
        ],
        [
         "web",
         571,
         "3052",
         "RETIRO",
         4640.88,
         "2021-02-11",
         "08:00:00.0",
         "2021-02-11T08:00:00.000+0000"
        ],
        [
         "web",
         540,
         "3089",
         "VENTA",
         1402.94,
         "2020-06-19",
         "08:00:00.0",
         "2020-06-19T08:00:00.000+0000"
        ],
        [
         "web",
         581,
         "3078",
         "DEPOSITO",
         4526.63,
         "2025-02-14",
         "08:00:00.0",
         "2025-02-14T08:00:00.000+0000"
        ],
        [
         "web",
         582,
         "3083",
         "VENTA",
         4533.31,
         "2024-07-12",
         "08:00:00.0",
         "2024-07-12T08:00:00.000+0000"
        ],
        [
         "web",
         545,
         "3037",
         "PAGO",
         1563.91,
         "2021-10-01",
         "08:00:00.0",
         "2021-10-01T08:00:00.000+0000"
        ],
        [
         "web",
         568,
         "3096",
         "VENTA",
         2053.45,
         "2020-12-29",
         "08:00:00.0",
         "2020-12-29T08:00:00.000+0000"
        ],
        [
         "web",
         594,
         "3004",
         "COMPRA",
         2272.87,
         "2021-11-15",
         "08:00:00.0",
         "2021-11-15T08:00:00.000+0000"
        ],
        [
         "web",
         531,
         "3089",
         "COMPRA",
         4398.59,
         "2022-05-09",
         "08:00:00.0",
         "2022-05-09T08:00:00.000+0000"
        ],
        [
         "web",
         563,
         "3089",
         "COMPRA",
         873.55,
         "2024-09-07",
         "08:00:00.0",
         "2024-09-07T08:00:00.000+0000"
        ],
        [
         "web",
         590,
         "3013",
         "COMPRA",
         605.45,
         "2023-06-01",
         "08:00:00.0",
         "2023-06-01T08:00:00.000+0000"
        ],
        [
         "web",
         599,
         "3022",
         "COMPRA",
         1673.12,
         "2020-02-22",
         "08:00:00.0",
         "2020-02-22T08:00:00.000+0000"
        ],
        [
         "web",
         557,
         "3089",
         "VENTA",
         2457.45,
         "2020-12-05",
         "08:00:00.0",
         "2020-12-05T08:00:00.000+0000"
        ],
        [
         "web",
         586,
         "3010",
         "RETIRO",
         308.22,
         "2020-10-19",
         "08:00:00.0",
         "2020-10-19T08:00:00.000+0000"
        ],
        [
         "web",
         528,
         "3003",
         "PAGO",
         4625.52,
         "2024-12-22",
         "08:00:00.0",
         "2024-12-22T08:00:00.000+0000"
        ],
        [
         "web",
         550,
         "3014",
         "RETIRO",
         2138.81,
         "2022-08-31",
         "08:00:00.0",
         "2022-08-31T08:00:00.000+0000"
        ],
        [
         "web",
         539,
         "3092",
         "VENTA",
         4233.74,
         "2023-07-17",
         "08:00:00.0",
         "2023-07-17T08:00:00.000+0000"
        ],
        [
         "web",
         520,
         "3025",
         "COMPRA",
         2431.01,
         "2022-05-28",
         "08:00:00.0",
         "2022-05-28T08:00:00.000+0000"
        ],
        [
         "web",
         525,
         "3014",
         "PAGO",
         407.53,
         "2024-04-29",
         "08:00:00.0",
         "2024-04-29T08:00:00.000+0000"
        ],
        [
         "web",
         566,
         "3092",
         "DEPOSITO",
         2830.01,
         "2020-03-27",
         "08:00:00.0",
         "2020-03-27T08:00:00.000+0000"
        ],
        [
         "web",
         589,
         "3048",
         "COMPRA",
         420.08,
         "2023-08-30",
         "08:00:00.0",
         "2023-08-30T08:00:00.000+0000"
        ],
        [
         "web",
         508,
         "3074",
         "PAGO",
         3402.76,
         "2020-03-21",
         "08:00:00.0",
         "2020-03-21T08:00:00.000+0000"
        ],
        [
         "web",
         544,
         "3026",
         "RETIRO",
         1841.95,
         "2022-09-09",
         "08:00:00.0",
         "2022-09-09T08:00:00.000+0000"
        ],
        [
         "web",
         592,
         "3022",
         "COMPRA",
         2397.55,
         "2023-04-09",
         "08:00:00.0",
         "2023-04-09T08:00:00.000+0000"
        ],
        [
         "web",
         503,
         "3023",
         "PAGO",
         1000.53,
         "2020-08-01",
         "08:00:00.0",
         "2020-08-01T08:00:00.000+0000"
        ],
        [
         "web",
         536,
         "3031",
         "VENTA",
         3608.54,
         "2022-12-11",
         "08:00:00.0",
         "2022-12-11T08:00:00.000+0000"
        ],
        [
         "web",
         570,
         "3098",
         "RETIRO",
         3993.91,
         "2024-06-05",
         "08:00:00.0",
         "2024-06-05T08:00:00.000+0000"
        ],
        [
         "web",
         578,
         "3044",
         "DEPOSITO",
         1713.66,
         "2025-03-05",
         "08:00:00.0",
         "2025-03-05T08:00:00.000+0000"
        ],
        [
         "web",
         596,
         "3024",
         "PAGO",
         1019.67,
         "2023-11-02",
         "08:00:00.0",
         "2023-11-02T08:00:00.000+0000"
        ],
        [
         "web",
         553,
         "3020",
         "PAGO",
         2152.49,
         "2021-06-28",
         "08:00:00.0",
         "2021-06-28T08:00:00.000+0000"
        ],
        [
         "web",
         583,
         "3070",
         "COMPRA",
         1677.91,
         "2022-05-06",
         "08:00:00.0",
         "2022-05-06T08:00:00.000+0000"
        ],
        [
         "web",
         532,
         "3026",
         "RETIRO",
         3602.66,
         "2024-06-06",
         "08:00:00.0",
         "2024-06-06T08:00:00.000+0000"
        ],
        [
         "web",
         515,
         "3066",
         "VENTA",
         3431.48,
         "2020-11-18",
         "08:00:00.0",
         "2020-11-18T08:00:00.000+0000"
        ],
        [
         "web",
         600,
         "3018",
         "PAGO",
         4154.06,
         "2023-02-20",
         "08:00:00.0",
         "2023-02-20T08:00:00.000+0000"
        ],
        [
         "web",
         524,
         "3021",
         "VENTA",
         3081.86,
         "2022-09-30",
         "08:00:00.0",
         "2022-09-30T08:00:00.000+0000"
        ],
        [
         "web",
         559,
         "3014",
         "PAGO",
         2040.47,
         "2023-04-12",
         "08:00:00.0",
         "2023-04-12T08:00:00.000+0000"
        ],
        [
         "web",
         580,
         "3093",
         "COMPRA",
         4929.23,
         "2024-06-21",
         "08:00:00.0",
         "2024-06-21T08:00:00.000+0000"
        ],
        [
         "web",
         561,
         "3033",
         "RETIRO",
         2063.8,
         "2024-12-07",
         "08:00:00.0",
         "2024-12-07T08:00:00.000+0000"
        ],
        [
         "web",
         530,
         "3060",
         "DEPOSITO",
         3020.55,
         "2020-08-09",
         "08:00:00.0",
         "2020-08-09T08:00:00.000+0000"
        ],
        [
         "web",
         521,
         "3069",
         "RETIRO",
         664.37,
         "2024-11-24",
         "08:00:00.0",
         "2024-11-24T08:00:00.000+0000"
        ],
        [
         "web",
         511,
         "3060",
         "COMPRA",
         1710.26,
         "2025-04-08",
         "08:00:00.0",
         "2025-04-08T08:00:00.000+0000"
        ],
        [
         "web",
         567,
         "3090",
         "VENTA",
         2560.08,
         "2022-08-08",
         "08:00:00.0",
         "2022-08-08T08:00:00.000+0000"
        ],
        [
         "web",
         509,
         "3069",
         "COMPRA",
         1117.49,
         "2024-05-15",
         "08:00:00.0",
         "2024-05-15T08:00:00.000+0000"
        ],
        [
         "web",
         573,
         "3082",
         "DEPOSITO",
         1220.84,
         "2023-09-27",
         "08:00:00.0",
         "2023-09-27T08:00:00.000+0000"
        ],
        [
         "web",
         574,
         "3009",
         "RETIRO",
         3478.51,
         "2022-06-27",
         "08:00:00.0",
         "2022-06-27T08:00:00.000+0000"
        ],
        [
         "web",
         527,
         "3076",
         "VENTA",
         4952.63,
         "2024-07-20",
         "08:00:00.0",
         "2024-07-20T08:00:00.000+0000"
        ],
        [
         "web",
         534,
         "3055",
         "RETIRO",
         25.44,
         "2022-04-07",
         "08:00:00.0",
         "2022-04-07T08:00:00.000+0000"
        ],
        [
         "web",
         542,
         "3090",
         "COMPRA",
         3814.18,
         "2025-03-13",
         "08:00:00.0",
         "2025-03-13T08:00:00.000+0000"
        ],
        [
         "web",
         537,
         "3099",
         "PAGO",
         3050.16,
         "2021-03-08",
         "08:00:00.0",
         "2021-03-08T08:00:00.000+0000"
        ],
        [
         "web",
         572,
         "3070",
         "RETIRO",
         1964.46,
         "2020-09-22",
         "08:00:00.0",
         "2020-09-22T08:00:00.000+0000"
        ]
       ],
       "datasetInfos": [],
       "dbfsResultPath": null,
       "isJsonSchema": true,
       "metadata": {},
       "overflow": false,
       "plotOptions": {
        "customPlotOptions": {},
        "displayType": "table",
        "pivotAggregation": null,
        "pivotColumns": null,
        "xColumns": null,
        "yColumns": null
       },
       "removedWidgets": [],
       "schema": [
        {
         "metadata": "{}",
         "name": "canal",
         "type": "\"string\""
        },
        {
         "metadata": "{}",
         "name": "id_trx",
         "type": "\"integer\""
        },
        {
         "metadata": "{}",
         "name": "id_usuario",
         "type": "\"string\""
        },
        {
         "metadata": "{}",
         "name": "operacion",
         "type": "\"string\""
        },
        {
         "metadata": "{}",
         "name": "monto",
         "type": "\"double\""
        },
        {
         "metadata": "{}",
         "name": "fecha",
         "type": "\"date\""
        },
        {
         "metadata": "{}",
         "name": "hora",
         "type": "\"string\""
        },
        {
         "metadata": "{}",
         "name": "fecha_hora",
         "type": "\"timestamp\""
        }
       ],
       "type": "table"
      }
     },
     "output_type": "display_data"
    }
   ],
   "source": [
    "silver_transacciones = spark.table(SILVER_TRANSACCIONES_TABLE)\n",
    "display(silver_transacciones)"
   ]
  }
 ],
 "metadata": {
  "application/vnd.databricks.v1+notebook": {
   "computePreferences": null,
   "dashboards": [],
   "environmentMetadata": {
    "base_environment": "",
    "environment_version": "3"
   },
   "inputWidgetPreferences": null,
   "language": "python",
   "notebookMetadata": {
    "mostRecentlyExecutedCommandWithImplicitDF": {
     "commandId": 8474730095286847,
     "dataframes": [
      "_sqldf"
     ]
    },
    "pythonIndentUnit": 4
   },
   "notebookName": "silver-transacciones",
   "widgets": {}
  },
  "language_info": {
   "name": "python"
  }
 },
 "nbformat": 4,
 "nbformat_minor": 0
}