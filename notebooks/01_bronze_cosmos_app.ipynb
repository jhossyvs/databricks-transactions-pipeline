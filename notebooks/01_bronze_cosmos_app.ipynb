{
 "cells": [
  {
   "cell_type": "code",
   "execution_count": 0,
   "metadata": {
    "application/vnd.databricks.v1+cell": {
     "cellMetadata": {
      "byteLimit": 2048000,
      "rowLimit": 10000
     },
     "inputWidgets": {},
     "nuid": "37d9436a-dace-49e7-9156-04741a2f8994",
     "showTitle": false,
     "tableResultSettingsMap": {},
     "title": ""
    }
   },
   "outputs": [
    {
     "output_type": "display_data",
     "data": {
      "text/html": [
       "<style scoped>\n",
       "  .ansiout {\n",
       "    display: block;\n",
       "    unicode-bidi: embed;\n",
       "    white-space: pre-wrap;\n",
       "    word-wrap: break-word;\n",
       "    word-break: break-all;\n",
       "    font-family: \"Menlo\", \"Monaco\", \"Consolas\", \"Ubuntu Mono\", \"Source Code Pro\", monospace;\n",
       "    font-size: 13px;\n",
       "    color: #555;\n",
       "    margin-left: 4px;\n",
       "    line-height: 19px;\n",
       "  }\n",
       "</style>\n",
       "<div class=\"ansiout\">database: String = bd_lab\n",
       "container: String = transacciones\n",
       "startFrom: String = Beginning\n",
       "tableBronze: String = bronze_app\n",
       "STREAM_QUERY_NAME: String = stream_bd_lab_transacciones_bronze\n",
       "PATH_CHECKPOINT: String = dbfs:/checkpoints/stream_bronze_app\n",
       "</div>"
      ]
     },
     "metadata": {
      "application/vnd.databricks.v1+output": {
       "addedWidgets": {},
       "arguments": {},
       "data": "<div class=\"ansiout\">database: String = bd_lab\ncontainer: String = transacciones\nstartFrom: String = Beginning\ntableBronze: String = bronze_app\nSTREAM_QUERY_NAME: String = stream_bd_lab_transacciones_bronze\nPATH_CHECKPOINT: String = dbfs:/checkpoints/stream_bronze_app\n</div>",
       "datasetInfos": [],
       "metadata": {
        "isDbfsCommandResult": false
       },
       "removedWidgets": [],
       "type": "html"
      }
     },
     "output_type": "display_data"
    }
   ],
   "source": [
    "%scala\n",
    "val database = \"bd_lab\"\n",
    "val container = \"transacciones\"\n",
    "val startFrom =\"Beginning\"\n",
    "val tableBronze = \"bronze_app\"\n",
    "val STREAM_QUERY_NAME = s\"stream_${database}_${container}_bronze\"\n",
    "val PATH_CHECKPOINT = \"dbfs:/checkpoints/stream_bronze_app\""
   ]
  },
  {
   "cell_type": "code",
   "execution_count": 0,
   "metadata": {
    "application/vnd.databricks.v1+cell": {
     "cellMetadata": {
      "byteLimit": 2048000,
      "rowLimit": 10000
     },
     "inputWidgets": {},
     "nuid": "1f035f57-0902-4590-9573-6da432254bf3",
     "showTitle": false,
     "tableResultSettingsMap": {},
     "title": ""
    }
   },
   "outputs": [
    {
     "output_type": "display_data",
     "data": {
      "text/html": [
       "<style scoped>\n",
       "  .ansiout {\n",
       "    display: block;\n",
       "    unicode-bidi: embed;\n",
       "    white-space: pre-wrap;\n",
       "    word-wrap: break-word;\n",
       "    word-break: break-all;\n",
       "    font-family: \"Menlo\", \"Monaco\", \"Consolas\", \"Ubuntu Mono\", \"Source Code Pro\", monospace;\n",
       "    font-size: 13px;\n",
       "    color: #555;\n",
       "    margin-left: 4px;\n",
       "    line-height: 19px;\n",
       "  }\n",
       "</style>\n",
       "<div class=\"ansiout\">cosmosMasterKey: String = [REDACTED]\n",
       "cosmosEndpoint: String = https://dtbdsrp.documents.azure.com:443/\n",
       "</div>"
      ]
     },
     "metadata": {
      "application/vnd.databricks.v1+output": {
       "addedWidgets": {},
       "arguments": {},
       "data": "<div class=\"ansiout\">cosmosMasterKey: String = [REDACTED]\ncosmosEndpoint: String = https://dtbdsrp.documents.azure.com:443/\n</div>",
       "datasetInfos": [],
       "metadata": {
        "isDbfsCommandResult": false
       },
       "removedWidgets": [],
       "type": "html"
      }
     },
     "output_type": "display_data"
    }
   ],
   "source": [
    "%scala\n",
    "val cosmosMasterKey = dbutils.secrets.get(scope = \"scope-dsrp\", key = \"key-cosmos\")\n",
    "val cosmosEndpoint = \"https://dtbdsrp.documents.azure.com:443/\""
   ]
  },
  {
   "cell_type": "code",
   "execution_count": 0,
   "metadata": {
    "application/vnd.databricks.v1+cell": {
     "cellMetadata": {
      "byteLimit": 2048000,
      "rowLimit": 10000
     },
     "inputWidgets": {},
     "nuid": "030b8636-9e5b-4b57-9527-209672cd3326",
     "showTitle": false,
     "tableResultSettingsMap": {},
     "title": ""
    }
   },
   "outputs": [
    {
     "output_type": "display_data",
     "data": {
      "text/html": [
       "<style scoped>\n",
       "  .ansiout {\n",
       "    display: block;\n",
       "    unicode-bidi: embed;\n",
       "    white-space: pre-wrap;\n",
       "    word-wrap: break-word;\n",
       "    word-break: break-all;\n",
       "    font-family: \"Menlo\", \"Monaco\", \"Consolas\", \"Ubuntu Mono\", \"Source Code Pro\", monospace;\n",
       "    font-size: 13px;\n",
       "    color: #555;\n",
       "    margin-left: 4px;\n",
       "    line-height: 19px;\n",
       "  }\n",
       "</style>\n",
       "<div class=\"ansiout\">configCosmos: Map[String,String] = Map(spark.cosmos.accountEndpoint -&gt; https://dtbdsrp.documents.azure.com:443/, spark.cosmos.accountKey -&gt; [REDACTED], spark.cosmos.database -&gt; bd_lab, spark.cosmos.container -&gt; transacciones)\n",
       "</div>"
      ]
     },
     "metadata": {
      "application/vnd.databricks.v1+output": {
       "addedWidgets": {},
       "arguments": {},
       "data": "<div class=\"ansiout\">configCosmos: Map[String,String] = Map(spark.cosmos.accountEndpoint -&gt; https://dtbdsrp.documents.azure.com:443/, spark.cosmos.accountKey -&gt; [REDACTED], spark.cosmos.database -&gt; bd_lab, spark.cosmos.container -&gt; transacciones)\n</div>",
       "datasetInfos": [],
       "metadata": {
        "isDbfsCommandResult": false
       },
       "removedWidgets": [],
       "type": "html"
      }
     },
     "output_type": "display_data"
    }
   ],
   "source": [
    "%scala\n",
    "val configCosmos: Map[String, String] = Map(\n",
    "    \"spark.cosmos.accountEndpoint\" -> cosmosEndpoint,\n",
    "    \"spark.cosmos.accountKey\" -> cosmosMasterKey,\n",
    "    \"spark.cosmos.database\" -> database,\n",
    "    \"spark.cosmos.container\" -> container,\n",
    ")"
   ]
  },
  {
   "cell_type": "code",
   "execution_count": 0,
   "metadata": {
    "application/vnd.databricks.v1+cell": {
     "cellMetadata": {
      "byteLimit": 2048000,
      "rowLimit": 10000
     },
     "inputWidgets": {},
     "nuid": "c7bebe36-9353-4107-81a8-e772cf852abb",
     "showTitle": false,
     "tableResultSettingsMap": {},
     "title": ""
    }
   },
   "outputs": [
    {
     "output_type": "display_data",
     "data": {
      "text/html": [
       "<style scoped>\n",
       "  .ansiout {\n",
       "    display: block;\n",
       "    unicode-bidi: embed;\n",
       "    white-space: pre-wrap;\n",
       "    word-wrap: break-word;\n",
       "    word-break: break-all;\n",
       "    font-family: \"Menlo\", \"Monaco\", \"Consolas\", \"Ubuntu Mono\", \"Source Code Pro\", monospace;\n",
       "    font-size: 13px;\n",
       "    color: #555;\n",
       "    margin-left: 4px;\n",
       "    line-height: 19px;\n",
       "  }\n",
       "</style>\n",
       "<div class=\"ansiout\">dfRes: org.apache.spark.sql.DataFrame = [_rawBody: string, id: string ... 3 more fields]\n",
       "</div>"
      ]
     },
     "metadata": {
      "application/vnd.databricks.v1+output": {
       "addedWidgets": {},
       "arguments": {},
       "data": "<div class=\"ansiout\">dfRes: org.apache.spark.sql.DataFrame = [_rawBody: string, id: string ... 3 more fields]\n</div>",
       "datasetInfos": [
        {
         "name": "dfRes",
         "schema": {
          "fields": [
           {
            "metadata": {},
            "name": "_rawBody",
            "nullable": false,
            "type": "string"
           },
           {
            "metadata": {},
            "name": "id",
            "nullable": false,
            "type": "string"
           },
           {
            "metadata": {},
            "name": "_ts",
            "nullable": false,
            "type": "long"
           },
           {
            "metadata": {},
            "name": "_etag",
            "nullable": false,
            "type": "string"
           },
           {
            "metadata": {},
            "name": "_lsn",
            "nullable": false,
            "type": "long"
           }
          ],
          "type": "struct"
         },
         "tableIdentifier": null,
         "typeStr": "org.apache.spark.sql.DataFrame"
        }
       ],
       "metadata": {
        "isDbfsCommandResult": false
       },
       "removedWidgets": [],
       "type": "html"
      }
     },
     "output_type": "display_data"
    }
   ],
   "source": [
    "%scala\n",
    "val dfRes = spark.readStream.format(\"cosmos.oltp.changefeed\")\n",
    "      .options(configCosmos)\n",
    "      .option(\"spark.cosmos.read.maxItemCount\", 80)\n",
    "      .option(\"spark.cosmos.read.inferSchema.enabled\", \"false\")\n",
    "      .option(\"spark.cosmos.changeFeed.startFrom\", startFrom)\n",
    "      .load()"
   ]
  },
  {
   "cell_type": "code",
   "execution_count": 0,
   "metadata": {
    "application/vnd.databricks.v1+cell": {
     "cellMetadata": {
      "byteLimit": 2048000,
      "implicitDf": true,
      "rowLimit": 10000
     },
     "inputWidgets": {},
     "nuid": "12a9e8cd-af20-4c97-b4bc-b699c45525c7",
     "showTitle": false,
     "tableResultSettingsMap": {},
     "title": ""
    }
   },
   "outputs": [
    {
     "output_type": "display_data",
     "data": {
      "text/html": [
       "<style scoped>\n",
       "  .table-result-container {\n",
       "    max-height: 300px;\n",
       "    overflow: auto;\n",
       "  }\n",
       "  table, th, td {\n",
       "    border: 1px solid black;\n",
       "    border-collapse: collapse;\n",
       "  }\n",
       "  th, td {\n",
       "    padding: 5px;\n",
       "  }\n",
       "  th {\n",
       "    text-align: left;\n",
       "  }\n",
       "</style><div class='table-result-container'><table class='table-result'><thead style='background-color: white'><tr></tr></thead><tbody></tbody></table></div>"
      ]
     },
     "metadata": {
      "application/vnd.databricks.v1+output": {
       "addedWidgets": {},
       "aggData": [],
       "aggError": "",
       "aggOverflow": false,
       "aggSchema": [],
       "aggSeriesLimitReached": false,
       "aggType": "",
       "arguments": {},
       "columnCustomDisplayInfos": {},
       "data": [],
       "datasetInfos": [],
       "dbfsResultPath": null,
       "isJsonSchema": true,
       "metadata": {},
       "overflow": false,
       "plotOptions": {
        "customPlotOptions": {},
        "displayType": "table",
        "pivotAggregation": null,
        "pivotColumns": null,
        "xColumns": null,
        "yColumns": null
       },
       "removedWidgets": [],
       "schema": [],
       "type": "table"
      }
     },
     "output_type": "display_data"
    }
   ],
   "source": [
    "%sql\n",
    "DROP TABLE IF EXISTS class_dsrp_dtb.default.bronze_app;\n",
    "\n",
    "CREATE TABLE IF NOT EXISTS bronze_app (\n",
    "    entityType STRING COMMENT \"entity from cosmos\",\n",
    "    document STRING COMMENT \"json text from container\",\n",
    "    metadata STRUCT<\n",
    "        partition: STRING,\n",
    "        offset: STRING,\n",
    "        sequenceNumbers: LONG,\n",
    "        enqueuedTime: TIMESTAMP\n",
    "    > COMMENT \"metadata from cosmos\",\n",
    "    auditTime TIMESTAMP COMMENT \"date and time of execution\",\n",
    "    p_auditDate DATE COMMENT \"date of execution\"\n",
    ")\n",
    "USING DELTA\n",
    "PARTITIONED BY (p_auditDate)\n",
    "COMMENT 'table of transactions';"
   ]
  },
  {
   "cell_type": "code",
   "execution_count": 0,
   "metadata": {
    "application/vnd.databricks.v1+cell": {
     "cellMetadata": {
      "byteLimit": 2048000,
      "rowLimit": 10000
     },
     "inputWidgets": {},
     "nuid": "58479dd4-ccec-4e99-aaa8-0f1edbea1a4e",
     "showTitle": false,
     "tableResultSettingsMap": {},
     "title": ""
    }
   },
   "outputs": [
    {
     "output_type": "display_data",
     "data": {
      "text/html": [
       "<style scoped>\n",
       "  .ansiout {\n",
       "    display: block;\n",
       "    unicode-bidi: embed;\n",
       "    white-space: pre-wrap;\n",
       "    word-wrap: break-word;\n",
       "    word-break: break-all;\n",
       "    font-family: \"Menlo\", \"Monaco\", \"Consolas\", \"Ubuntu Mono\", \"Source Code Pro\", monospace;\n",
       "    font-size: 13px;\n",
       "    color: #555;\n",
       "    margin-left: 4px;\n",
       "    line-height: 19px;\n",
       "  }\n",
       "</style>\n",
       "<div class=\"ansiout\">import org.apache.spark.sql.DataFrame\n",
       "import org.apache.spark.sql.types.DataType\n",
       "import org.apache.spark.sql.functions._\n",
       "import org.apache.spark.sql.streaming.Trigger\n",
       "</div>"
      ]
     },
     "metadata": {
      "application/vnd.databricks.v1+output": {
       "addedWidgets": {},
       "arguments": {},
       "data": "<div class=\"ansiout\">import org.apache.spark.sql.DataFrame\nimport org.apache.spark.sql.types.DataType\nimport org.apache.spark.sql.functions._\nimport org.apache.spark.sql.streaming.Trigger\n</div>",
       "datasetInfos": [],
       "metadata": {
        "isDbfsCommandResult": false
       },
       "removedWidgets": [],
       "type": "html"
      }
     },
     "output_type": "display_data"
    }
   ],
   "source": [
    "%scala\n",
    "import org.apache.spark.sql.DataFrame\n",
    "import org.apache.spark.sql.types.{ DataType }\n",
    "import org.apache.spark.sql.functions._\n",
    "import org.apache.spark.sql.streaming.Trigger"
   ]
  },
  {
   "cell_type": "code",
   "execution_count": 0,
   "metadata": {
    "application/vnd.databricks.v1+cell": {
     "cellMetadata": {
      "byteLimit": 2048000,
      "rowLimit": 10000
     },
     "inputWidgets": {},
     "nuid": "7f09d974-76fa-4ce8-93cc-f9b792db7473",
     "showTitle": false,
     "tableResultSettingsMap": {},
     "title": ""
    }
   },
   "outputs": [
    {
     "output_type": "display_data",
     "data": {
      "text/html": [
       "<style scoped>\n",
       "  .ansiout {\n",
       "    display: block;\n",
       "    unicode-bidi: embed;\n",
       "    white-space: pre-wrap;\n",
       "    word-wrap: break-word;\n",
       "    word-break: break-all;\n",
       "    font-family: \"Menlo\", \"Monaco\", \"Consolas\", \"Ubuntu Mono\", \"Source Code Pro\", monospace;\n",
       "    font-size: 13px;\n",
       "    color: #555;\n",
       "    margin-left: 4px;\n",
       "    line-height: 19px;\n",
       "  }\n",
       "</style>\n",
       "<div class=\"ansiout\">command-8474730095286832:21: warning: method Once in class Trigger is deprecated\n",
       "  .trigger(Trigger.Once())\n",
       "                   ^\n",
       "stream: org.apache.spark.sql.DataFrame = [entityType: string, document: string ... 3 more fields]\n",
       "res1: org.apache.spark.sql.streaming.StreamingQuery = org.apache.spark.sql.execution.streaming.StreamingQueryWrapper@4bb3c825\n",
       "</div>"
      ]
     },
     "metadata": {
      "application/vnd.databricks.v1+output": {
       "addedWidgets": {},
       "arguments": {},
       "data": "<div class=\"ansiout\">command-8474730095286832:21: warning: method Once in class Trigger is deprecated\n  .trigger(Trigger.Once())\n                   ^\nstream: org.apache.spark.sql.DataFrame = [entityType: string, document: string ... 3 more fields]\nres1: org.apache.spark.sql.streaming.StreamingQuery = org.apache.spark.sql.execution.streaming.StreamingQueryWrapper@4bb3c825\n</div>",
       "datasetInfos": [
        {
         "name": "stream",
         "schema": {
          "fields": [
           {
            "metadata": {},
            "name": "entityType",
            "nullable": false,
            "type": "string"
           },
           {
            "metadata": {},
            "name": "document",
            "nullable": false,
            "type": "string"
           },
           {
            "metadata": {},
            "name": "metadata",
            "nullable": false,
            "type": {
             "fields": [
              {
               "metadata": {},
               "name": "partition",
               "nullable": false,
               "type": "string"
              },
              {
               "metadata": {},
               "name": "offset",
               "nullable": false,
               "type": "string"
              },
              {
               "metadata": {},
               "name": "sequenceNumbers",
               "nullable": false,
               "type": "long"
              },
              {
               "metadata": {},
               "name": "enqueuedTime",
               "nullable": false,
               "type": "timestamp"
              }
             ],
             "type": "struct"
            }
           },
           {
            "metadata": {},
            "name": "auditTime",
            "nullable": false,
            "type": "timestamp"
           },
           {
            "metadata": {},
            "name": "p_auditDate",
            "nullable": false,
            "type": "date"
           }
          ],
          "type": "struct"
         },
         "tableIdentifier": null,
         "typeStr": "org.apache.spark.sql.DataFrame"
        }
       ],
       "metadata": {
        "isDbfsCommandResult": false
       },
       "removedWidgets": [],
       "type": "html"
      }
     },
     "output_type": "display_data"
    }
   ],
   "source": [
    "%scala\n",
    "val stream = dfRes\n",
    "  .withColumn(\"entityType\", lit(container))\n",
    "  .withColumn(\"document\", $\"_rawBody\")\n",
    "  .withColumn(\"metadata\", struct(\n",
    "      $\"id\".cast(\"string\").as(\"partition\"),\n",
    "      $\"_etag\".as(\"offset\"),\n",
    "      lit(0L).as(\"sequenceNumbers\"),\n",
    "      to_timestamp($\"_ts\").as(\"enqueuedTime\")\n",
    "  ))\n",
    "  .drop(\"id\")\n",
    "  .drop(\"_rawBody\")\n",
    "  .drop(\"_ts\")\n",
    "  .drop(\"_etag\")\n",
    "  .drop(\"_lsn\")\n",
    "  .withColumn(\"auditTime\", current_timestamp())\n",
    "  .withColumn(\"p_auditDate\", to_date(current_timestamp()))\n",
    "\n",
    "stream.writeStream\n",
    "  .partitionBy(\"p_auditDate\")\n",
    "  .format(\"delta\")\n",
    "  .trigger(Trigger.Once())\n",
    "  .option(\"checkpointLocation\", PATH_CHECKPOINT)\n",
    "  .queryName(STREAM_QUERY_NAME)\n",
    "  .table(tableBronze)"
   ]
  }
 ],
 "metadata": {
  "application/vnd.databricks.v1+notebook": {
   "computePreferences": null,
   "dashboards": [],
   "environmentMetadata": {
    "base_environment": "",
    "environment_version": "3"
   },
   "inputWidgetPreferences": null,
   "language": "python",
   "notebookMetadata": {
    "mostRecentlyExecutedCommandWithImplicitDF": {
     "commandId": 5543720372017174,
     "dataframes": [
      "_sqldf"
     ]
    },
    "pythonIndentUnit": 4
   },
   "notebookName": "bronze_cosmos_app",
   "widgets": {}
  },
  "language_info": {
   "name": "python"
  }
 },
 "nbformat": 4,
 "nbformat_minor": 0
}